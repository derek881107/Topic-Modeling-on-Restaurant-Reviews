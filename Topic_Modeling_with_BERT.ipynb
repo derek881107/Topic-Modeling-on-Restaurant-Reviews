{
  "nbformat": 4,
  "nbformat_minor": 0,
  "metadata": {
    "colab": {
      "provenance": [],
      "authorship_tag": "ABX9TyMoIS3e7enoMH2MwEc5tfEH",
      "include_colab_link": true
    },
    "kernelspec": {
      "name": "python3",
      "display_name": "Python 3"
    },
    "language_info": {
      "name": "python"
    },
    "widgets": {
      "application/vnd.jupyter.widget-state+json": {
        "8d2500681bdf45698d5e78888d0fd86d": {
          "model_module": "@jupyter-widgets/controls",
          "model_name": "HBoxModel",
          "model_module_version": "1.5.0",
          "state": {
            "_dom_classes": [],
            "_model_module": "@jupyter-widgets/controls",
            "_model_module_version": "1.5.0",
            "_model_name": "HBoxModel",
            "_view_count": null,
            "_view_module": "@jupyter-widgets/controls",
            "_view_module_version": "1.5.0",
            "_view_name": "HBoxView",
            "box_style": "",
            "children": [
              "IPY_MODEL_d46abb252de34813bafc3dca78911f98",
              "IPY_MODEL_0af908f0b22647018d57b30ffbd1bf76",
              "IPY_MODEL_9fbd5088b9aa4387991730a5a0554a2e"
            ],
            "layout": "IPY_MODEL_0670329d9014406ebbb818fe6a9bd4d1"
          }
        },
        "d46abb252de34813bafc3dca78911f98": {
          "model_module": "@jupyter-widgets/controls",
          "model_name": "HTMLModel",
          "model_module_version": "1.5.0",
          "state": {
            "_dom_classes": [],
            "_model_module": "@jupyter-widgets/controls",
            "_model_module_version": "1.5.0",
            "_model_name": "HTMLModel",
            "_view_count": null,
            "_view_module": "@jupyter-widgets/controls",
            "_view_module_version": "1.5.0",
            "_view_name": "HTMLView",
            "description": "",
            "description_tooltip": null,
            "layout": "IPY_MODEL_eef53bdf44bc48b29b97579a8597cc18",
            "placeholder": "​",
            "style": "IPY_MODEL_ebf573e3196b442a845f8e2bc7fdd851",
            "value": "Batches: 100%"
          }
        },
        "0af908f0b22647018d57b30ffbd1bf76": {
          "model_module": "@jupyter-widgets/controls",
          "model_name": "FloatProgressModel",
          "model_module_version": "1.5.0",
          "state": {
            "_dom_classes": [],
            "_model_module": "@jupyter-widgets/controls",
            "_model_module_version": "1.5.0",
            "_model_name": "FloatProgressModel",
            "_view_count": null,
            "_view_module": "@jupyter-widgets/controls",
            "_view_module_version": "1.5.0",
            "_view_name": "ProgressView",
            "bar_style": "success",
            "description": "",
            "description_tooltip": null,
            "layout": "IPY_MODEL_d5aea183d6ef4b4689c5c6e03682f355",
            "max": 157,
            "min": 0,
            "orientation": "horizontal",
            "style": "IPY_MODEL_392e25e5b2f74e1095549946f74a1dc8",
            "value": 157
          }
        },
        "9fbd5088b9aa4387991730a5a0554a2e": {
          "model_module": "@jupyter-widgets/controls",
          "model_name": "HTMLModel",
          "model_module_version": "1.5.0",
          "state": {
            "_dom_classes": [],
            "_model_module": "@jupyter-widgets/controls",
            "_model_module_version": "1.5.0",
            "_model_name": "HTMLModel",
            "_view_count": null,
            "_view_module": "@jupyter-widgets/controls",
            "_view_module_version": "1.5.0",
            "_view_name": "HTMLView",
            "description": "",
            "description_tooltip": null,
            "layout": "IPY_MODEL_34775547dc9b4fa8824f2b75927ec6cf",
            "placeholder": "​",
            "style": "IPY_MODEL_775d4301d424438aad98da1c20ca372d",
            "value": " 157/157 [05:25&lt;00:00,  2.15it/s]"
          }
        },
        "0670329d9014406ebbb818fe6a9bd4d1": {
          "model_module": "@jupyter-widgets/base",
          "model_name": "LayoutModel",
          "model_module_version": "1.2.0",
          "state": {
            "_model_module": "@jupyter-widgets/base",
            "_model_module_version": "1.2.0",
            "_model_name": "LayoutModel",
            "_view_count": null,
            "_view_module": "@jupyter-widgets/base",
            "_view_module_version": "1.2.0",
            "_view_name": "LayoutView",
            "align_content": null,
            "align_items": null,
            "align_self": null,
            "border": null,
            "bottom": null,
            "display": null,
            "flex": null,
            "flex_flow": null,
            "grid_area": null,
            "grid_auto_columns": null,
            "grid_auto_flow": null,
            "grid_auto_rows": null,
            "grid_column": null,
            "grid_gap": null,
            "grid_row": null,
            "grid_template_areas": null,
            "grid_template_columns": null,
            "grid_template_rows": null,
            "height": null,
            "justify_content": null,
            "justify_items": null,
            "left": null,
            "margin": null,
            "max_height": null,
            "max_width": null,
            "min_height": null,
            "min_width": null,
            "object_fit": null,
            "object_position": null,
            "order": null,
            "overflow": null,
            "overflow_x": null,
            "overflow_y": null,
            "padding": null,
            "right": null,
            "top": null,
            "visibility": null,
            "width": null
          }
        },
        "eef53bdf44bc48b29b97579a8597cc18": {
          "model_module": "@jupyter-widgets/base",
          "model_name": "LayoutModel",
          "model_module_version": "1.2.0",
          "state": {
            "_model_module": "@jupyter-widgets/base",
            "_model_module_version": "1.2.0",
            "_model_name": "LayoutModel",
            "_view_count": null,
            "_view_module": "@jupyter-widgets/base",
            "_view_module_version": "1.2.0",
            "_view_name": "LayoutView",
            "align_content": null,
            "align_items": null,
            "align_self": null,
            "border": null,
            "bottom": null,
            "display": null,
            "flex": null,
            "flex_flow": null,
            "grid_area": null,
            "grid_auto_columns": null,
            "grid_auto_flow": null,
            "grid_auto_rows": null,
            "grid_column": null,
            "grid_gap": null,
            "grid_row": null,
            "grid_template_areas": null,
            "grid_template_columns": null,
            "grid_template_rows": null,
            "height": null,
            "justify_content": null,
            "justify_items": null,
            "left": null,
            "margin": null,
            "max_height": null,
            "max_width": null,
            "min_height": null,
            "min_width": null,
            "object_fit": null,
            "object_position": null,
            "order": null,
            "overflow": null,
            "overflow_x": null,
            "overflow_y": null,
            "padding": null,
            "right": null,
            "top": null,
            "visibility": null,
            "width": null
          }
        },
        "ebf573e3196b442a845f8e2bc7fdd851": {
          "model_module": "@jupyter-widgets/controls",
          "model_name": "DescriptionStyleModel",
          "model_module_version": "1.5.0",
          "state": {
            "_model_module": "@jupyter-widgets/controls",
            "_model_module_version": "1.5.0",
            "_model_name": "DescriptionStyleModel",
            "_view_count": null,
            "_view_module": "@jupyter-widgets/base",
            "_view_module_version": "1.2.0",
            "_view_name": "StyleView",
            "description_width": ""
          }
        },
        "d5aea183d6ef4b4689c5c6e03682f355": {
          "model_module": "@jupyter-widgets/base",
          "model_name": "LayoutModel",
          "model_module_version": "1.2.0",
          "state": {
            "_model_module": "@jupyter-widgets/base",
            "_model_module_version": "1.2.0",
            "_model_name": "LayoutModel",
            "_view_count": null,
            "_view_module": "@jupyter-widgets/base",
            "_view_module_version": "1.2.0",
            "_view_name": "LayoutView",
            "align_content": null,
            "align_items": null,
            "align_self": null,
            "border": null,
            "bottom": null,
            "display": null,
            "flex": null,
            "flex_flow": null,
            "grid_area": null,
            "grid_auto_columns": null,
            "grid_auto_flow": null,
            "grid_auto_rows": null,
            "grid_column": null,
            "grid_gap": null,
            "grid_row": null,
            "grid_template_areas": null,
            "grid_template_columns": null,
            "grid_template_rows": null,
            "height": null,
            "justify_content": null,
            "justify_items": null,
            "left": null,
            "margin": null,
            "max_height": null,
            "max_width": null,
            "min_height": null,
            "min_width": null,
            "object_fit": null,
            "object_position": null,
            "order": null,
            "overflow": null,
            "overflow_x": null,
            "overflow_y": null,
            "padding": null,
            "right": null,
            "top": null,
            "visibility": null,
            "width": null
          }
        },
        "392e25e5b2f74e1095549946f74a1dc8": {
          "model_module": "@jupyter-widgets/controls",
          "model_name": "ProgressStyleModel",
          "model_module_version": "1.5.0",
          "state": {
            "_model_module": "@jupyter-widgets/controls",
            "_model_module_version": "1.5.0",
            "_model_name": "ProgressStyleModel",
            "_view_count": null,
            "_view_module": "@jupyter-widgets/base",
            "_view_module_version": "1.2.0",
            "_view_name": "StyleView",
            "bar_color": null,
            "description_width": ""
          }
        },
        "34775547dc9b4fa8824f2b75927ec6cf": {
          "model_module": "@jupyter-widgets/base",
          "model_name": "LayoutModel",
          "model_module_version": "1.2.0",
          "state": {
            "_model_module": "@jupyter-widgets/base",
            "_model_module_version": "1.2.0",
            "_model_name": "LayoutModel",
            "_view_count": null,
            "_view_module": "@jupyter-widgets/base",
            "_view_module_version": "1.2.0",
            "_view_name": "LayoutView",
            "align_content": null,
            "align_items": null,
            "align_self": null,
            "border": null,
            "bottom": null,
            "display": null,
            "flex": null,
            "flex_flow": null,
            "grid_area": null,
            "grid_auto_columns": null,
            "grid_auto_flow": null,
            "grid_auto_rows": null,
            "grid_column": null,
            "grid_gap": null,
            "grid_row": null,
            "grid_template_areas": null,
            "grid_template_columns": null,
            "grid_template_rows": null,
            "height": null,
            "justify_content": null,
            "justify_items": null,
            "left": null,
            "margin": null,
            "max_height": null,
            "max_width": null,
            "min_height": null,
            "min_width": null,
            "object_fit": null,
            "object_position": null,
            "order": null,
            "overflow": null,
            "overflow_x": null,
            "overflow_y": null,
            "padding": null,
            "right": null,
            "top": null,
            "visibility": null,
            "width": null
          }
        },
        "775d4301d424438aad98da1c20ca372d": {
          "model_module": "@jupyter-widgets/controls",
          "model_name": "DescriptionStyleModel",
          "model_module_version": "1.5.0",
          "state": {
            "_model_module": "@jupyter-widgets/controls",
            "_model_module_version": "1.5.0",
            "_model_name": "DescriptionStyleModel",
            "_view_count": null,
            "_view_module": "@jupyter-widgets/base",
            "_view_module_version": "1.2.0",
            "_view_name": "StyleView",
            "description_width": ""
          }
        },
        "bba12a36530543139067f9dd7d301c8b": {
          "model_module": "@jupyter-widgets/controls",
          "model_name": "HBoxModel",
          "model_module_version": "1.5.0",
          "state": {
            "_dom_classes": [],
            "_model_module": "@jupyter-widgets/controls",
            "_model_module_version": "1.5.0",
            "_model_name": "HBoxModel",
            "_view_count": null,
            "_view_module": "@jupyter-widgets/controls",
            "_view_module_version": "1.5.0",
            "_view_name": "HBoxView",
            "box_style": "",
            "children": [
              "IPY_MODEL_fe5e44934e3e4059acf989e8ac410134",
              "IPY_MODEL_20e562440d9f40739004f7afc828e7a2",
              "IPY_MODEL_6b7a989d985b488f86f9fcf2928a9056"
            ],
            "layout": "IPY_MODEL_d93f19e9bd2a40abb1913afbfbea05e1"
          }
        },
        "fe5e44934e3e4059acf989e8ac410134": {
          "model_module": "@jupyter-widgets/controls",
          "model_name": "HTMLModel",
          "model_module_version": "1.5.0",
          "state": {
            "_dom_classes": [],
            "_model_module": "@jupyter-widgets/controls",
            "_model_module_version": "1.5.0",
            "_model_name": "HTMLModel",
            "_view_count": null,
            "_view_module": "@jupyter-widgets/controls",
            "_view_module_version": "1.5.0",
            "_view_name": "HTMLView",
            "description": "",
            "description_tooltip": null,
            "layout": "IPY_MODEL_7b2b290a2a0948839826de3d0d62d640",
            "placeholder": "​",
            "style": "IPY_MODEL_6d77cbbcfaa54dd09a24bef7daddb778",
            "value": "Batches: 100%"
          }
        },
        "20e562440d9f40739004f7afc828e7a2": {
          "model_module": "@jupyter-widgets/controls",
          "model_name": "FloatProgressModel",
          "model_module_version": "1.5.0",
          "state": {
            "_dom_classes": [],
            "_model_module": "@jupyter-widgets/controls",
            "_model_module_version": "1.5.0",
            "_model_name": "FloatProgressModel",
            "_view_count": null,
            "_view_module": "@jupyter-widgets/controls",
            "_view_module_version": "1.5.0",
            "_view_name": "ProgressView",
            "bar_style": "success",
            "description": "",
            "description_tooltip": null,
            "layout": "IPY_MODEL_3231519664054981a4318a8b9bef5509",
            "max": 153,
            "min": 0,
            "orientation": "horizontal",
            "style": "IPY_MODEL_26699f82d2bb4804a8b1ea898c5a82e3",
            "value": 153
          }
        },
        "6b7a989d985b488f86f9fcf2928a9056": {
          "model_module": "@jupyter-widgets/controls",
          "model_name": "HTMLModel",
          "model_module_version": "1.5.0",
          "state": {
            "_dom_classes": [],
            "_model_module": "@jupyter-widgets/controls",
            "_model_module_version": "1.5.0",
            "_model_name": "HTMLModel",
            "_view_count": null,
            "_view_module": "@jupyter-widgets/controls",
            "_view_module_version": "1.5.0",
            "_view_name": "HTMLView",
            "description": "",
            "description_tooltip": null,
            "layout": "IPY_MODEL_adaa84e4f8234127bcca66e4db28c03c",
            "placeholder": "​",
            "style": "IPY_MODEL_f8823acd2e154a0ab7612f7117f95c34",
            "value": " 153/153 [05:25&lt;00:00,  2.64it/s]"
          }
        },
        "d93f19e9bd2a40abb1913afbfbea05e1": {
          "model_module": "@jupyter-widgets/base",
          "model_name": "LayoutModel",
          "model_module_version": "1.2.0",
          "state": {
            "_model_module": "@jupyter-widgets/base",
            "_model_module_version": "1.2.0",
            "_model_name": "LayoutModel",
            "_view_count": null,
            "_view_module": "@jupyter-widgets/base",
            "_view_module_version": "1.2.0",
            "_view_name": "LayoutView",
            "align_content": null,
            "align_items": null,
            "align_self": null,
            "border": null,
            "bottom": null,
            "display": null,
            "flex": null,
            "flex_flow": null,
            "grid_area": null,
            "grid_auto_columns": null,
            "grid_auto_flow": null,
            "grid_auto_rows": null,
            "grid_column": null,
            "grid_gap": null,
            "grid_row": null,
            "grid_template_areas": null,
            "grid_template_columns": null,
            "grid_template_rows": null,
            "height": null,
            "justify_content": null,
            "justify_items": null,
            "left": null,
            "margin": null,
            "max_height": null,
            "max_width": null,
            "min_height": null,
            "min_width": null,
            "object_fit": null,
            "object_position": null,
            "order": null,
            "overflow": null,
            "overflow_x": null,
            "overflow_y": null,
            "padding": null,
            "right": null,
            "top": null,
            "visibility": null,
            "width": null
          }
        },
        "7b2b290a2a0948839826de3d0d62d640": {
          "model_module": "@jupyter-widgets/base",
          "model_name": "LayoutModel",
          "model_module_version": "1.2.0",
          "state": {
            "_model_module": "@jupyter-widgets/base",
            "_model_module_version": "1.2.0",
            "_model_name": "LayoutModel",
            "_view_count": null,
            "_view_module": "@jupyter-widgets/base",
            "_view_module_version": "1.2.0",
            "_view_name": "LayoutView",
            "align_content": null,
            "align_items": null,
            "align_self": null,
            "border": null,
            "bottom": null,
            "display": null,
            "flex": null,
            "flex_flow": null,
            "grid_area": null,
            "grid_auto_columns": null,
            "grid_auto_flow": null,
            "grid_auto_rows": null,
            "grid_column": null,
            "grid_gap": null,
            "grid_row": null,
            "grid_template_areas": null,
            "grid_template_columns": null,
            "grid_template_rows": null,
            "height": null,
            "justify_content": null,
            "justify_items": null,
            "left": null,
            "margin": null,
            "max_height": null,
            "max_width": null,
            "min_height": null,
            "min_width": null,
            "object_fit": null,
            "object_position": null,
            "order": null,
            "overflow": null,
            "overflow_x": null,
            "overflow_y": null,
            "padding": null,
            "right": null,
            "top": null,
            "visibility": null,
            "width": null
          }
        },
        "6d77cbbcfaa54dd09a24bef7daddb778": {
          "model_module": "@jupyter-widgets/controls",
          "model_name": "DescriptionStyleModel",
          "model_module_version": "1.5.0",
          "state": {
            "_model_module": "@jupyter-widgets/controls",
            "_model_module_version": "1.5.0",
            "_model_name": "DescriptionStyleModel",
            "_view_count": null,
            "_view_module": "@jupyter-widgets/base",
            "_view_module_version": "1.2.0",
            "_view_name": "StyleView",
            "description_width": ""
          }
        },
        "3231519664054981a4318a8b9bef5509": {
          "model_module": "@jupyter-widgets/base",
          "model_name": "LayoutModel",
          "model_module_version": "1.2.0",
          "state": {
            "_model_module": "@jupyter-widgets/base",
            "_model_module_version": "1.2.0",
            "_model_name": "LayoutModel",
            "_view_count": null,
            "_view_module": "@jupyter-widgets/base",
            "_view_module_version": "1.2.0",
            "_view_name": "LayoutView",
            "align_content": null,
            "align_items": null,
            "align_self": null,
            "border": null,
            "bottom": null,
            "display": null,
            "flex": null,
            "flex_flow": null,
            "grid_area": null,
            "grid_auto_columns": null,
            "grid_auto_flow": null,
            "grid_auto_rows": null,
            "grid_column": null,
            "grid_gap": null,
            "grid_row": null,
            "grid_template_areas": null,
            "grid_template_columns": null,
            "grid_template_rows": null,
            "height": null,
            "justify_content": null,
            "justify_items": null,
            "left": null,
            "margin": null,
            "max_height": null,
            "max_width": null,
            "min_height": null,
            "min_width": null,
            "object_fit": null,
            "object_position": null,
            "order": null,
            "overflow": null,
            "overflow_x": null,
            "overflow_y": null,
            "padding": null,
            "right": null,
            "top": null,
            "visibility": null,
            "width": null
          }
        },
        "26699f82d2bb4804a8b1ea898c5a82e3": {
          "model_module": "@jupyter-widgets/controls",
          "model_name": "ProgressStyleModel",
          "model_module_version": "1.5.0",
          "state": {
            "_model_module": "@jupyter-widgets/controls",
            "_model_module_version": "1.5.0",
            "_model_name": "ProgressStyleModel",
            "_view_count": null,
            "_view_module": "@jupyter-widgets/base",
            "_view_module_version": "1.2.0",
            "_view_name": "StyleView",
            "bar_color": null,
            "description_width": ""
          }
        },
        "adaa84e4f8234127bcca66e4db28c03c": {
          "model_module": "@jupyter-widgets/base",
          "model_name": "LayoutModel",
          "model_module_version": "1.2.0",
          "state": {
            "_model_module": "@jupyter-widgets/base",
            "_model_module_version": "1.2.0",
            "_model_name": "LayoutModel",
            "_view_count": null,
            "_view_module": "@jupyter-widgets/base",
            "_view_module_version": "1.2.0",
            "_view_name": "LayoutView",
            "align_content": null,
            "align_items": null,
            "align_self": null,
            "border": null,
            "bottom": null,
            "display": null,
            "flex": null,
            "flex_flow": null,
            "grid_area": null,
            "grid_auto_columns": null,
            "grid_auto_flow": null,
            "grid_auto_rows": null,
            "grid_column": null,
            "grid_gap": null,
            "grid_row": null,
            "grid_template_areas": null,
            "grid_template_columns": null,
            "grid_template_rows": null,
            "height": null,
            "justify_content": null,
            "justify_items": null,
            "left": null,
            "margin": null,
            "max_height": null,
            "max_width": null,
            "min_height": null,
            "min_width": null,
            "object_fit": null,
            "object_position": null,
            "order": null,
            "overflow": null,
            "overflow_x": null,
            "overflow_y": null,
            "padding": null,
            "right": null,
            "top": null,
            "visibility": null,
            "width": null
          }
        },
        "f8823acd2e154a0ab7612f7117f95c34": {
          "model_module": "@jupyter-widgets/controls",
          "model_name": "DescriptionStyleModel",
          "model_module_version": "1.5.0",
          "state": {
            "_model_module": "@jupyter-widgets/controls",
            "_model_module_version": "1.5.0",
            "_model_name": "DescriptionStyleModel",
            "_view_count": null,
            "_view_module": "@jupyter-widgets/base",
            "_view_module_version": "1.2.0",
            "_view_name": "StyleView",
            "description_width": ""
          }
        },
        "31319a6d717a412682eea307f95383e1": {
          "model_module": "@jupyter-widgets/controls",
          "model_name": "HBoxModel",
          "model_module_version": "1.5.0",
          "state": {
            "_dom_classes": [],
            "_model_module": "@jupyter-widgets/controls",
            "_model_module_version": "1.5.0",
            "_model_name": "HBoxModel",
            "_view_count": null,
            "_view_module": "@jupyter-widgets/controls",
            "_view_module_version": "1.5.0",
            "_view_name": "HBoxView",
            "box_style": "",
            "children": [
              "IPY_MODEL_b5098373c1b14b88b4c6438410f89913",
              "IPY_MODEL_49dd17b5c1fb4d4384c05bb5d5a67c25",
              "IPY_MODEL_f78e34d2cb634cad920bbf05c6149dfb"
            ],
            "layout": "IPY_MODEL_bf560d04794848e6bc066d3622dddeeb"
          }
        },
        "b5098373c1b14b88b4c6438410f89913": {
          "model_module": "@jupyter-widgets/controls",
          "model_name": "HTMLModel",
          "model_module_version": "1.5.0",
          "state": {
            "_dom_classes": [],
            "_model_module": "@jupyter-widgets/controls",
            "_model_module_version": "1.5.0",
            "_model_name": "HTMLModel",
            "_view_count": null,
            "_view_module": "@jupyter-widgets/controls",
            "_view_module_version": "1.5.0",
            "_view_name": "HTMLView",
            "description": "",
            "description_tooltip": null,
            "layout": "IPY_MODEL_df0909df3234498babfd264ba27a5fef",
            "placeholder": "​",
            "style": "IPY_MODEL_a707e548cbc2403eb82cdae7f3885cef",
            "value": "Batches: 100%"
          }
        },
        "49dd17b5c1fb4d4384c05bb5d5a67c25": {
          "model_module": "@jupyter-widgets/controls",
          "model_name": "FloatProgressModel",
          "model_module_version": "1.5.0",
          "state": {
            "_dom_classes": [],
            "_model_module": "@jupyter-widgets/controls",
            "_model_module_version": "1.5.0",
            "_model_name": "FloatProgressModel",
            "_view_count": null,
            "_view_module": "@jupyter-widgets/controls",
            "_view_module_version": "1.5.0",
            "_view_name": "ProgressView",
            "bar_style": "success",
            "description": "",
            "description_tooltip": null,
            "layout": "IPY_MODEL_942171f4fdb34171a1685f26b7904ce2",
            "max": 25,
            "min": 0,
            "orientation": "horizontal",
            "style": "IPY_MODEL_15a5526d4b0644d19d7c49b571a39500",
            "value": 25
          }
        },
        "f78e34d2cb634cad920bbf05c6149dfb": {
          "model_module": "@jupyter-widgets/controls",
          "model_name": "HTMLModel",
          "model_module_version": "1.5.0",
          "state": {
            "_dom_classes": [],
            "_model_module": "@jupyter-widgets/controls",
            "_model_module_version": "1.5.0",
            "_model_name": "HTMLModel",
            "_view_count": null,
            "_view_module": "@jupyter-widgets/controls",
            "_view_module_version": "1.5.0",
            "_view_name": "HTMLView",
            "description": "",
            "description_tooltip": null,
            "layout": "IPY_MODEL_54f93797834b4540b7693875c38d4ace",
            "placeholder": "​",
            "style": "IPY_MODEL_5d1a2cff72c446dc8f20be867b6d092b",
            "value": " 25/25 [01:20&lt;00:00,  1.63it/s]"
          }
        },
        "bf560d04794848e6bc066d3622dddeeb": {
          "model_module": "@jupyter-widgets/base",
          "model_name": "LayoutModel",
          "model_module_version": "1.2.0",
          "state": {
            "_model_module": "@jupyter-widgets/base",
            "_model_module_version": "1.2.0",
            "_model_name": "LayoutModel",
            "_view_count": null,
            "_view_module": "@jupyter-widgets/base",
            "_view_module_version": "1.2.0",
            "_view_name": "LayoutView",
            "align_content": null,
            "align_items": null,
            "align_self": null,
            "border": null,
            "bottom": null,
            "display": null,
            "flex": null,
            "flex_flow": null,
            "grid_area": null,
            "grid_auto_columns": null,
            "grid_auto_flow": null,
            "grid_auto_rows": null,
            "grid_column": null,
            "grid_gap": null,
            "grid_row": null,
            "grid_template_areas": null,
            "grid_template_columns": null,
            "grid_template_rows": null,
            "height": null,
            "justify_content": null,
            "justify_items": null,
            "left": null,
            "margin": null,
            "max_height": null,
            "max_width": null,
            "min_height": null,
            "min_width": null,
            "object_fit": null,
            "object_position": null,
            "order": null,
            "overflow": null,
            "overflow_x": null,
            "overflow_y": null,
            "padding": null,
            "right": null,
            "top": null,
            "visibility": null,
            "width": null
          }
        },
        "df0909df3234498babfd264ba27a5fef": {
          "model_module": "@jupyter-widgets/base",
          "model_name": "LayoutModel",
          "model_module_version": "1.2.0",
          "state": {
            "_model_module": "@jupyter-widgets/base",
            "_model_module_version": "1.2.0",
            "_model_name": "LayoutModel",
            "_view_count": null,
            "_view_module": "@jupyter-widgets/base",
            "_view_module_version": "1.2.0",
            "_view_name": "LayoutView",
            "align_content": null,
            "align_items": null,
            "align_self": null,
            "border": null,
            "bottom": null,
            "display": null,
            "flex": null,
            "flex_flow": null,
            "grid_area": null,
            "grid_auto_columns": null,
            "grid_auto_flow": null,
            "grid_auto_rows": null,
            "grid_column": null,
            "grid_gap": null,
            "grid_row": null,
            "grid_template_areas": null,
            "grid_template_columns": null,
            "grid_template_rows": null,
            "height": null,
            "justify_content": null,
            "justify_items": null,
            "left": null,
            "margin": null,
            "max_height": null,
            "max_width": null,
            "min_height": null,
            "min_width": null,
            "object_fit": null,
            "object_position": null,
            "order": null,
            "overflow": null,
            "overflow_x": null,
            "overflow_y": null,
            "padding": null,
            "right": null,
            "top": null,
            "visibility": null,
            "width": null
          }
        },
        "a707e548cbc2403eb82cdae7f3885cef": {
          "model_module": "@jupyter-widgets/controls",
          "model_name": "DescriptionStyleModel",
          "model_module_version": "1.5.0",
          "state": {
            "_model_module": "@jupyter-widgets/controls",
            "_model_module_version": "1.5.0",
            "_model_name": "DescriptionStyleModel",
            "_view_count": null,
            "_view_module": "@jupyter-widgets/base",
            "_view_module_version": "1.2.0",
            "_view_name": "StyleView",
            "description_width": ""
          }
        },
        "942171f4fdb34171a1685f26b7904ce2": {
          "model_module": "@jupyter-widgets/base",
          "model_name": "LayoutModel",
          "model_module_version": "1.2.0",
          "state": {
            "_model_module": "@jupyter-widgets/base",
            "_model_module_version": "1.2.0",
            "_model_name": "LayoutModel",
            "_view_count": null,
            "_view_module": "@jupyter-widgets/base",
            "_view_module_version": "1.2.0",
            "_view_name": "LayoutView",
            "align_content": null,
            "align_items": null,
            "align_self": null,
            "border": null,
            "bottom": null,
            "display": null,
            "flex": null,
            "flex_flow": null,
            "grid_area": null,
            "grid_auto_columns": null,
            "grid_auto_flow": null,
            "grid_auto_rows": null,
            "grid_column": null,
            "grid_gap": null,
            "grid_row": null,
            "grid_template_areas": null,
            "grid_template_columns": null,
            "grid_template_rows": null,
            "height": null,
            "justify_content": null,
            "justify_items": null,
            "left": null,
            "margin": null,
            "max_height": null,
            "max_width": null,
            "min_height": null,
            "min_width": null,
            "object_fit": null,
            "object_position": null,
            "order": null,
            "overflow": null,
            "overflow_x": null,
            "overflow_y": null,
            "padding": null,
            "right": null,
            "top": null,
            "visibility": null,
            "width": null
          }
        },
        "15a5526d4b0644d19d7c49b571a39500": {
          "model_module": "@jupyter-widgets/controls",
          "model_name": "ProgressStyleModel",
          "model_module_version": "1.5.0",
          "state": {
            "_model_module": "@jupyter-widgets/controls",
            "_model_module_version": "1.5.0",
            "_model_name": "ProgressStyleModel",
            "_view_count": null,
            "_view_module": "@jupyter-widgets/base",
            "_view_module_version": "1.2.0",
            "_view_name": "StyleView",
            "bar_color": null,
            "description_width": ""
          }
        },
        "54f93797834b4540b7693875c38d4ace": {
          "model_module": "@jupyter-widgets/base",
          "model_name": "LayoutModel",
          "model_module_version": "1.2.0",
          "state": {
            "_model_module": "@jupyter-widgets/base",
            "_model_module_version": "1.2.0",
            "_model_name": "LayoutModel",
            "_view_count": null,
            "_view_module": "@jupyter-widgets/base",
            "_view_module_version": "1.2.0",
            "_view_name": "LayoutView",
            "align_content": null,
            "align_items": null,
            "align_self": null,
            "border": null,
            "bottom": null,
            "display": null,
            "flex": null,
            "flex_flow": null,
            "grid_area": null,
            "grid_auto_columns": null,
            "grid_auto_flow": null,
            "grid_auto_rows": null,
            "grid_column": null,
            "grid_gap": null,
            "grid_row": null,
            "grid_template_areas": null,
            "grid_template_columns": null,
            "grid_template_rows": null,
            "height": null,
            "justify_content": null,
            "justify_items": null,
            "left": null,
            "margin": null,
            "max_height": null,
            "max_width": null,
            "min_height": null,
            "min_width": null,
            "object_fit": null,
            "object_position": null,
            "order": null,
            "overflow": null,
            "overflow_x": null,
            "overflow_y": null,
            "padding": null,
            "right": null,
            "top": null,
            "visibility": null,
            "width": null
          }
        },
        "5d1a2cff72c446dc8f20be867b6d092b": {
          "model_module": "@jupyter-widgets/controls",
          "model_name": "DescriptionStyleModel",
          "model_module_version": "1.5.0",
          "state": {
            "_model_module": "@jupyter-widgets/controls",
            "_model_module_version": "1.5.0",
            "_model_name": "DescriptionStyleModel",
            "_view_count": null,
            "_view_module": "@jupyter-widgets/base",
            "_view_module_version": "1.2.0",
            "_view_name": "StyleView",
            "description_width": ""
          }
        },
        "d735b98001b14b0c8eb1f61a7a461201": {
          "model_module": "@jupyter-widgets/controls",
          "model_name": "HBoxModel",
          "model_module_version": "1.5.0",
          "state": {
            "_dom_classes": [],
            "_model_module": "@jupyter-widgets/controls",
            "_model_module_version": "1.5.0",
            "_model_name": "HBoxModel",
            "_view_count": null,
            "_view_module": "@jupyter-widgets/controls",
            "_view_module_version": "1.5.0",
            "_view_name": "HBoxView",
            "box_style": "",
            "children": [
              "IPY_MODEL_bcee5ccdbc1b499dbdec9a389d6ae0c9",
              "IPY_MODEL_7f02d902a4474e7ebce4b953d5501c4d",
              "IPY_MODEL_c55b75d200d24866b8930f64c9f71dda"
            ],
            "layout": "IPY_MODEL_c41e56b2a70c4324a098d30aed8699a0"
          }
        },
        "bcee5ccdbc1b499dbdec9a389d6ae0c9": {
          "model_module": "@jupyter-widgets/controls",
          "model_name": "HTMLModel",
          "model_module_version": "1.5.0",
          "state": {
            "_dom_classes": [],
            "_model_module": "@jupyter-widgets/controls",
            "_model_module_version": "1.5.0",
            "_model_name": "HTMLModel",
            "_view_count": null,
            "_view_module": "@jupyter-widgets/controls",
            "_view_module_version": "1.5.0",
            "_view_name": "HTMLView",
            "description": "",
            "description_tooltip": null,
            "layout": "IPY_MODEL_5cdc0ea0935541ef97c5ecf8505a9eae",
            "placeholder": "​",
            "style": "IPY_MODEL_91439aefdc6946088d081eee0f624520",
            "value": "Batches: 100%"
          }
        },
        "7f02d902a4474e7ebce4b953d5501c4d": {
          "model_module": "@jupyter-widgets/controls",
          "model_name": "FloatProgressModel",
          "model_module_version": "1.5.0",
          "state": {
            "_dom_classes": [],
            "_model_module": "@jupyter-widgets/controls",
            "_model_module_version": "1.5.0",
            "_model_name": "FloatProgressModel",
            "_view_count": null,
            "_view_module": "@jupyter-widgets/controls",
            "_view_module_version": "1.5.0",
            "_view_name": "ProgressView",
            "bar_style": "success",
            "description": "",
            "description_tooltip": null,
            "layout": "IPY_MODEL_fb49c982d9ca4d5f9a6206cff896cefa",
            "max": 84,
            "min": 0,
            "orientation": "horizontal",
            "style": "IPY_MODEL_7b37ce60e66f4fd28ccc9fcda73c0a2e",
            "value": 84
          }
        },
        "c55b75d200d24866b8930f64c9f71dda": {
          "model_module": "@jupyter-widgets/controls",
          "model_name": "HTMLModel",
          "model_module_version": "1.5.0",
          "state": {
            "_dom_classes": [],
            "_model_module": "@jupyter-widgets/controls",
            "_model_module_version": "1.5.0",
            "_model_name": "HTMLModel",
            "_view_count": null,
            "_view_module": "@jupyter-widgets/controls",
            "_view_module_version": "1.5.0",
            "_view_name": "HTMLView",
            "description": "",
            "description_tooltip": null,
            "layout": "IPY_MODEL_79afde7fc6194a7097de8ec6f7ef6901",
            "placeholder": "​",
            "style": "IPY_MODEL_09d8b0936d9443db9a450a5b77f6e919",
            "value": " 84/84 [02:18&lt;00:00,  2.50it/s]"
          }
        },
        "c41e56b2a70c4324a098d30aed8699a0": {
          "model_module": "@jupyter-widgets/base",
          "model_name": "LayoutModel",
          "model_module_version": "1.2.0",
          "state": {
            "_model_module": "@jupyter-widgets/base",
            "_model_module_version": "1.2.0",
            "_model_name": "LayoutModel",
            "_view_count": null,
            "_view_module": "@jupyter-widgets/base",
            "_view_module_version": "1.2.0",
            "_view_name": "LayoutView",
            "align_content": null,
            "align_items": null,
            "align_self": null,
            "border": null,
            "bottom": null,
            "display": null,
            "flex": null,
            "flex_flow": null,
            "grid_area": null,
            "grid_auto_columns": null,
            "grid_auto_flow": null,
            "grid_auto_rows": null,
            "grid_column": null,
            "grid_gap": null,
            "grid_row": null,
            "grid_template_areas": null,
            "grid_template_columns": null,
            "grid_template_rows": null,
            "height": null,
            "justify_content": null,
            "justify_items": null,
            "left": null,
            "margin": null,
            "max_height": null,
            "max_width": null,
            "min_height": null,
            "min_width": null,
            "object_fit": null,
            "object_position": null,
            "order": null,
            "overflow": null,
            "overflow_x": null,
            "overflow_y": null,
            "padding": null,
            "right": null,
            "top": null,
            "visibility": null,
            "width": null
          }
        },
        "5cdc0ea0935541ef97c5ecf8505a9eae": {
          "model_module": "@jupyter-widgets/base",
          "model_name": "LayoutModel",
          "model_module_version": "1.2.0",
          "state": {
            "_model_module": "@jupyter-widgets/base",
            "_model_module_version": "1.2.0",
            "_model_name": "LayoutModel",
            "_view_count": null,
            "_view_module": "@jupyter-widgets/base",
            "_view_module_version": "1.2.0",
            "_view_name": "LayoutView",
            "align_content": null,
            "align_items": null,
            "align_self": null,
            "border": null,
            "bottom": null,
            "display": null,
            "flex": null,
            "flex_flow": null,
            "grid_area": null,
            "grid_auto_columns": null,
            "grid_auto_flow": null,
            "grid_auto_rows": null,
            "grid_column": null,
            "grid_gap": null,
            "grid_row": null,
            "grid_template_areas": null,
            "grid_template_columns": null,
            "grid_template_rows": null,
            "height": null,
            "justify_content": null,
            "justify_items": null,
            "left": null,
            "margin": null,
            "max_height": null,
            "max_width": null,
            "min_height": null,
            "min_width": null,
            "object_fit": null,
            "object_position": null,
            "order": null,
            "overflow": null,
            "overflow_x": null,
            "overflow_y": null,
            "padding": null,
            "right": null,
            "top": null,
            "visibility": null,
            "width": null
          }
        },
        "91439aefdc6946088d081eee0f624520": {
          "model_module": "@jupyter-widgets/controls",
          "model_name": "DescriptionStyleModel",
          "model_module_version": "1.5.0",
          "state": {
            "_model_module": "@jupyter-widgets/controls",
            "_model_module_version": "1.5.0",
            "_model_name": "DescriptionStyleModel",
            "_view_count": null,
            "_view_module": "@jupyter-widgets/base",
            "_view_module_version": "1.2.0",
            "_view_name": "StyleView",
            "description_width": ""
          }
        },
        "fb49c982d9ca4d5f9a6206cff896cefa": {
          "model_module": "@jupyter-widgets/base",
          "model_name": "LayoutModel",
          "model_module_version": "1.2.0",
          "state": {
            "_model_module": "@jupyter-widgets/base",
            "_model_module_version": "1.2.0",
            "_model_name": "LayoutModel",
            "_view_count": null,
            "_view_module": "@jupyter-widgets/base",
            "_view_module_version": "1.2.0",
            "_view_name": "LayoutView",
            "align_content": null,
            "align_items": null,
            "align_self": null,
            "border": null,
            "bottom": null,
            "display": null,
            "flex": null,
            "flex_flow": null,
            "grid_area": null,
            "grid_auto_columns": null,
            "grid_auto_flow": null,
            "grid_auto_rows": null,
            "grid_column": null,
            "grid_gap": null,
            "grid_row": null,
            "grid_template_areas": null,
            "grid_template_columns": null,
            "grid_template_rows": null,
            "height": null,
            "justify_content": null,
            "justify_items": null,
            "left": null,
            "margin": null,
            "max_height": null,
            "max_width": null,
            "min_height": null,
            "min_width": null,
            "object_fit": null,
            "object_position": null,
            "order": null,
            "overflow": null,
            "overflow_x": null,
            "overflow_y": null,
            "padding": null,
            "right": null,
            "top": null,
            "visibility": null,
            "width": null
          }
        },
        "7b37ce60e66f4fd28ccc9fcda73c0a2e": {
          "model_module": "@jupyter-widgets/controls",
          "model_name": "ProgressStyleModel",
          "model_module_version": "1.5.0",
          "state": {
            "_model_module": "@jupyter-widgets/controls",
            "_model_module_version": "1.5.0",
            "_model_name": "ProgressStyleModel",
            "_view_count": null,
            "_view_module": "@jupyter-widgets/base",
            "_view_module_version": "1.2.0",
            "_view_name": "StyleView",
            "bar_color": null,
            "description_width": ""
          }
        },
        "79afde7fc6194a7097de8ec6f7ef6901": {
          "model_module": "@jupyter-widgets/base",
          "model_name": "LayoutModel",
          "model_module_version": "1.2.0",
          "state": {
            "_model_module": "@jupyter-widgets/base",
            "_model_module_version": "1.2.0",
            "_model_name": "LayoutModel",
            "_view_count": null,
            "_view_module": "@jupyter-widgets/base",
            "_view_module_version": "1.2.0",
            "_view_name": "LayoutView",
            "align_content": null,
            "align_items": null,
            "align_self": null,
            "border": null,
            "bottom": null,
            "display": null,
            "flex": null,
            "flex_flow": null,
            "grid_area": null,
            "grid_auto_columns": null,
            "grid_auto_flow": null,
            "grid_auto_rows": null,
            "grid_column": null,
            "grid_gap": null,
            "grid_row": null,
            "grid_template_areas": null,
            "grid_template_columns": null,
            "grid_template_rows": null,
            "height": null,
            "justify_content": null,
            "justify_items": null,
            "left": null,
            "margin": null,
            "max_height": null,
            "max_width": null,
            "min_height": null,
            "min_width": null,
            "object_fit": null,
            "object_position": null,
            "order": null,
            "overflow": null,
            "overflow_x": null,
            "overflow_y": null,
            "padding": null,
            "right": null,
            "top": null,
            "visibility": null,
            "width": null
          }
        },
        "09d8b0936d9443db9a450a5b77f6e919": {
          "model_module": "@jupyter-widgets/controls",
          "model_name": "DescriptionStyleModel",
          "model_module_version": "1.5.0",
          "state": {
            "_model_module": "@jupyter-widgets/controls",
            "_model_module_version": "1.5.0",
            "_model_name": "DescriptionStyleModel",
            "_view_count": null,
            "_view_module": "@jupyter-widgets/base",
            "_view_module_version": "1.2.0",
            "_view_name": "StyleView",
            "description_width": ""
          }
        }
      }
    }
  },
  "cells": [
    {
      "cell_type": "markdown",
      "metadata": {
        "id": "view-in-github",
        "colab_type": "text"
      },
      "source": [
        "<a href=\"https://colab.research.google.com/github/derek881107/Topic-Modeling-on-Restaurant-Reviews/blob/main/Topic_Modeling_with_BERT.ipynb\" target=\"_parent\"><img src=\"https://colab.research.google.com/assets/colab-badge.svg\" alt=\"Open In Colab\"/></a>"
      ]
    },
    {
      "cell_type": "code",
      "source": [
        "# Topic Modeling with BERT\n",
        "# Author: Hsieh, Tsai Yun\n",
        "# Date: 2025-02-27\n"
      ],
      "metadata": {
        "id": "nBm8u1CH79vO"
      },
      "execution_count": null,
      "outputs": []
    },
    {
      "cell_type": "markdown",
      "source": [
        "Code Cell 1: Library and Data Import"
      ],
      "metadata": {
        "id": "NNB0rDH37gft"
      }
    },
    {
      "cell_type": "code",
      "source": [
        "# Code Cell 1: Library and data import.\n",
        "# Install necessary libraries: BERTopic, umap-learn, sentence-transformers\n",
        "!pip install bertopic umap-learn sentence-transformers --quiet\n",
        "\n",
        "import pandas as pd\n",
        "import numpy as np\n",
        "import matplotlib.pyplot as plt\n",
        "import seaborn as sns\n",
        "from umap import UMAP\n",
        "from bertopic import BERTopic\n",
        "from sentence_transformers import SentenceTransformer\n",
        "\n"
      ],
      "metadata": {
        "colab": {
          "base_uri": "https://localhost:8080/"
        },
        "id": "Y94ok-xk7eht",
        "outputId": "c39189c3-3667-4661-eb77-e098a7a98990"
      },
      "execution_count": null,
      "outputs": [
        {
          "output_type": "stream",
          "name": "stdout",
          "text": [
            "\u001b[33mWARNING: Ignoring invalid distribution ~vidia-cuda-cupti-cu12 (/usr/local/lib/python3.11/dist-packages)\u001b[0m\u001b[33m\n",
            "\u001b[0m\u001b[33mWARNING: Ignoring invalid distribution ~vidia-cuda-cupti-cu12 (/usr/local/lib/python3.11/dist-packages)\u001b[0m\u001b[33m\n",
            "\u001b[0m\u001b[33mWARNING: Ignoring invalid distribution ~vidia-cuda-cupti-cu12 (/usr/local/lib/python3.11/dist-packages)\u001b[0m\u001b[33m\n",
            "\u001b[0m\u001b[33m    WARNING: Ignoring invalid distribution ~vidia-cuda-cupti-cu12 (/usr/local/lib/python3.11/dist-packages)\u001b[0m\u001b[33m\n",
            "\u001b[0m\u001b[33m    WARNING: Ignoring invalid distribution ~vidia-cuda-cupti-cu12 (/usr/local/lib/python3.11/dist-packages)\u001b[0m\u001b[33m\n",
            "\u001b[0m\u001b[33m    WARNING: Ignoring invalid distribution ~vidia-cuda-cupti-cu12 (/usr/local/lib/python3.11/dist-packages)\u001b[0m\u001b[33m\n",
            "\u001b[0m\u001b[33m    WARNING: Ignoring invalid distribution ~vidia-cuda-cupti-cu12 (/usr/local/lib/python3.11/dist-packages)\u001b[0m\u001b[33m\n",
            "\u001b[0m\u001b[33mWARNING: Ignoring invalid distribution ~vidia-cuda-cupti-cu12 (/usr/local/lib/python3.11/dist-packages)\u001b[0m\u001b[33m\n",
            "\u001b[0m\u001b[33mWARNING: Ignoring invalid distribution ~vidia-cuda-cupti-cu12 (/usr/local/lib/python3.11/dist-packages)\u001b[0m\u001b[33m\n",
            "\u001b[0m\u001b[33mWARNING: Ignoring invalid distribution ~vidia-cuda-cupti-cu12 (/usr/local/lib/python3.11/dist-packages)\u001b[0m\u001b[33m\n",
            "\u001b[0m"
          ]
        }
      ]
    },
    {
      "cell_type": "code",
      "source": [
        "# Load the CSV file (only the first 5000 rows)\n",
        "df = pd.read_csv(\"/content/sample_data/restaurant_reviews_az.csv\", nrows=5000)\n",
        "print(\"Data imported successfully. DataFrame shape:\", df.shape)"
      ],
      "metadata": {
        "colab": {
          "base_uri": "https://localhost:8080/"
        },
        "id": "u160iGSj74YC",
        "outputId": "789d4285-08e5-4c8d-b5a2-7d7450614518"
      },
      "execution_count": null,
      "outputs": [
        {
          "output_type": "stream",
          "name": "stdout",
          "text": [
            "Data imported successfully. DataFrame shape: (5000, 10)\n"
          ]
        }
      ]
    },
    {
      "cell_type": "markdown",
      "source": [
        "Code Cell 2: Calculate and Visualize Distribution of Review Length\n"
      ],
      "metadata": {
        "id": "v2icShQK8z-_"
      }
    },
    {
      "cell_type": "code",
      "source": [
        "# Code Cell 2: Calculate and visualize the distribution of review length.\n",
        "# Check the DataFrame columns\n",
        "print(\"Columns in DataFrame:\", df.columns.tolist())\n",
        "\n",
        "# Assuming the review text is in the 'text' column, compute the character length of each review.\n",
        "df['review_length'] = df['text'].astype(str).apply(len)\n",
        "print(\"\\nReview length statistics:\")\n",
        "print(df['review_length'].describe())\n",
        "\n",
        "# Visualize the distribution of review lengths\n",
        "plt.figure(figsize=(10,6))\n",
        "sns.histplot(df['review_length'], bins=30, kde=True)\n",
        "plt.title(\"Distribution of Review Length\")\n",
        "plt.xlabel(\"Review Length (number of characters)\")\n",
        "plt.ylabel(\"Frequency\")\n",
        "plt.show()\n"
      ],
      "metadata": {
        "colab": {
          "base_uri": "https://localhost:8080/",
          "height": 772
        },
        "id": "N-EBNz_R8yNI",
        "outputId": "812dd283-cb93-486b-82af-9f225b6699ae"
      },
      "execution_count": null,
      "outputs": [
        {
          "output_type": "stream",
          "name": "stdout",
          "text": [
            "Columns in DataFrame: ['review_id', 'user_id', 'business_id', 'stars', 'useful', 'funny', 'cool', 'text', 'date', 'Sentiment', 'review_length']\n",
            "\n",
            "Review length statistics:\n",
            "count    5000.000000\n",
            "mean      455.375200\n",
            "std       409.336345\n",
            "min        41.000000\n",
            "25%       193.000000\n",
            "50%       329.000000\n",
            "75%       577.000000\n",
            "max      4993.000000\n",
            "Name: review_length, dtype: float64\n"
          ]
        },
        {
          "output_type": "display_data",
          "data": {
            "text/plain": [
              "<Figure size 1000x600 with 1 Axes>"
            ],
            "image/png": "[encoded data removed]"
          },
          "metadata": {}
        }
      ]
    },
    {
      "cell_type": "markdown",
      "source": [
        "Code Cell 3: Apply UMAP for Dimensionality Reduction"
      ],
      "metadata": {
        "id": "XqZZHKKN9ZD0"
      }
    },
    {
      "cell_type": "code",
      "source": [
        "# Code Cell 3: Apply UMAP to reduce dimensionality.\n",
        "# Generate embeddings for the reviews using SentenceTransformer (using 'text' column)\n",
        "model = SentenceTransformer('all-MiniLM-L6-v2')\n",
        "embeddings = model.encode(df['text'].tolist(), show_progress_bar=True)\n",
        "\n",
        "# Apply UMAP to reduce the embedding dimensions to 5, with n_neighbors set to 15 and cosine similarity as the metric.\n",
        "umap_model = UMAP(n_components=5, n_neighbors=15, metric='cosine', random_state=42)\n",
        "umap_embeddings = umap_model.fit_transform(embeddings)\n",
        "print(\"UMAP reduction complete. Reduced embeddings shape:\", umap_embeddings.shape)\n"
      ],
      "metadata": {
        "colab": {
          "base_uri": "https://localhost:8080/",
          "height": 66,
          "referenced_widgets": [
            "8d2500681bdf45698d5e78888d0fd86d",
            "d46abb252de34813bafc3dca78911f98",
            "0af908f0b22647018d57b30ffbd1bf76",
            "9fbd5088b9aa4387991730a5a0554a2e",
            "0670329d9014406ebbb818fe6a9bd4d1",
            "eef53bdf44bc48b29b97579a8597cc18",
            "ebf573e3196b442a845f8e2bc7fdd851",
            "d5aea183d6ef4b4689c5c6e03682f355",
            "392e25e5b2f74e1095549946f74a1dc8",
            "34775547dc9b4fa8824f2b75927ec6cf",
            "775d4301d424438aad98da1c20ca372d"
          ]
        },
        "id": "S3IM5vpY9YuR",
        "outputId": "7b3c79cd-68cd-4186-9178-51c2dbfdfedb"
      },
      "execution_count": null,
      "outputs": [
        {
          "output_type": "display_data",
          "data": {
            "text/plain": [
              "Batches:   0%|          | 0/157 [00:00<?, ?it/s]"
            ],
            "application/vnd.jupyter.widget-view+json": {
              "version_major": 2,
              "version_minor": 0,
              "model_id": "8d2500681bdf45698d5e78888d0fd86d"
            }
          },
          "metadata": {}
        },
        {
          "output_type": "stream",
          "name": "stdout",
          "text": [
            "UMAP reduction complete. Reduced embeddings shape: (5000, 5)\n"
          ]
        }
      ]
    },
    {
      "cell_type": "markdown",
      "source": [
        " Code Cell 4: Initiate and Run BERTopic Model"
      ],
      "metadata": {
        "id": "w5q34XBBAlFY"
      }
    },
    {
      "cell_type": "code",
      "source": [
        "# Code Cell 4: Initiate and run BERTopic model.\n",
        "# Initialize the BERTopic model with the custom UMAP model (and calculate topic probabilities)\n",
        "topic_model = BERTopic(umap_model=umap_model, calculate_probabilities=True, verbose=True)\n",
        "\n",
        "# Fit the BERTopic model on the reviews using the 'text' column along with the pre-computed embeddings.\n",
        "topics, probs = topic_model.fit_transform(df['text'].tolist(), embeddings)\n",
        "print(\"BERTopic model has been fitted.\")\n"
      ],
      "metadata": {
        "colab": {
          "base_uri": "https://localhost:8080/"
        },
        "id": "Lkjn9gMB9Yqb",
        "outputId": "11edfc38-6b3e-469e-e01b-21b3c388ee0f"
      },
      "execution_count": null,
      "outputs": [
        {
          "output_type": "stream",
          "name": "stderr",
          "text": [
            "2025-02-28 00:43:50,455 - BERTopic - Dimensionality - Fitting the dimensionality reduction algorithm\n",
            "2025-02-28 00:44:11,814 - BERTopic - Dimensionality - Completed ✓\n",
            "2025-02-28 00:44:11,819 - BERTopic - Cluster - Start clustering the reduced embeddings\n",
            "2025-02-28 00:44:13,490 - BERTopic - Cluster - Completed ✓\n",
            "2025-02-28 00:44:13,503 - BERTopic - Representation - Extracting topics from clusters using representation models.\n",
            "2025-02-28 00:44:14,343 - BERTopic - Representation - Completed ✓\n"
          ]
        },
        {
          "output_type": "stream",
          "name": "stdout",
          "text": [
            "BERTopic model has been fitted.\n"
          ]
        }
      ]
    },
    {
      "cell_type": "markdown",
      "source": [
        "Code Cell 5: Report Top 6 Topics Information and Visualize Topic Words\n"
      ],
      "metadata": {
        "id": "AhW-G91lArpE"
      }
    },
    {
      "cell_type": "code",
      "source": [
        "# Code Cell 5: Report information of the extracted top 6 topics and visualize topic words.\n",
        "# Retrieve topic information\n",
        "topic_info = topic_model.get_topic_info()\n",
        "print(\"Topic Information (first 10 rows):\")\n",
        "print(topic_info.head(10))\n",
        "\n",
        "# Exclude the outlier topic (typically labeled -1) and select the top 6 topics by count.\n",
        "top6_topics = topic_info[topic_info.Topic != -1].head(6)\n",
        "print(\"\\nTop 6 topics:\")\n",
        "print(top6_topics)\n",
        "\n",
        "# For each selected topic, print details: count, keywords (representation), and representative documents (first 3)\n",
        "for topic in top6_topics.Topic:\n",
        "    print(f\"\\nTopic {topic}:\")\n",
        "    count = topic_info[topic_info.Topic == topic]['Count'].values[0]\n",
        "    print(\"Count:\", count)\n",
        "    keywords = topic_model.get_topic(topic)\n",
        "    print(\"Keywords (representation):\", keywords)\n",
        "    reps = topic_model.get_representative_docs(topic)\n",
        "    print(\"Representative documents (first 3):\", reps[:3])\n",
        "\n",
        "# Visualize the top 6 topics' keywords using the built-in bar chart visualization.\n",
        "fig = topic_model.visualize_barchart(top_n_topics=6)\n",
        "fig.show()\n"
      ],
      "metadata": {
        "colab": {
          "base_uri": "https://localhost:8080/",
          "height": 1000
        },
        "id": "JqkSW8AdA2HI",
        "outputId": "14ee4eed-0223-4dda-d9f1-69a0df9210d6"
      },
      "execution_count": null,
      "outputs": [
        {
          "output_type": "stream",
          "name": "stdout",
          "text": [
            "Topic Information (first 10 rows):\n",
            "   Topic  Count                            Name  \\\n",
            "0     -1   2217               -1_the_and_was_to   \n",
            "1      0    399              0_tucson_in_is_the   \n",
            "2      1    281       1_breakfast_and_the_toast   \n",
            "3      2    273            2_pizza_crust_the_to   \n",
            "4      3    205          3_tacos_taco_the_asada   \n",
            "5      4    133     4_wine_great_bruschetta_and   \n",
            "6      5    110     5_chinese_hong_kong_noodles   \n",
            "7      6     75                 6_she_her_to_me   \n",
            "8      7     72            7_ramen_broth_the_is   \n",
            "9      8     66  8_mask_masks_wearing_employees   \n",
            "\n",
            "                                      Representation  \\\n",
            "0    [the, and, was, to, it, we, of, for, food, but]   \n",
            "1  [tucson, in, is, the, and, to, of, food, this,...   \n",
            "2  [breakfast, and, the, toast, brunch, was, fren...   \n",
            "3  [pizza, crust, the, to, and, it, is, was, we, ...   \n",
            "4  [tacos, taco, the, asada, and, it, of, but, ar...   \n",
            "5  [wine, great, bruschetta, and, the, beer, is, ...   \n",
            "6  [chinese, hong, kong, noodles, the, dishes, an...   \n",
            "7  [she, her, to, me, my, the, he, that, order, and]   \n",
            "8  [ramen, broth, the, is, noodles, spicy, pork, ...   \n",
            "9  [mask, masks, wearing, employees, their, not, ...   \n",
            "\n",
            "                                 Representative_Docs  \n",
            "0  [I've been to Contigo a few times and was unde...  \n",
            "1  [If you are looking for amazing red chili... Y...  \n",
            "2  [Me and my brother live down the street and wa...  \n",
            "3  [Mod Pizza's pizza is really good - thin crust...  \n",
            "4  [Gave this little place a try tonight and they...  \n",
            "5  [I very highly recommend this restaurant . The...  \n",
            "6  [So excited to try out another new Asian resta...  \n",
            "7  [We brought our daughter for her birthday and ...  \n",
            "8  [Oh my! This place has the most delicious Rame...  \n",
            "9  [No masks. Enclosed space. No sign on the door...  \n",
            "\n",
            "Top 6 topics:\n",
            "   Topic  Count                         Name  \\\n",
            "1      0    399           0_tucson_in_is_the   \n",
            "2      1    281    1_breakfast_and_the_toast   \n",
            "3      2    273         2_pizza_crust_the_to   \n",
            "4      3    205       3_tacos_taco_the_asada   \n",
            "5      4    133  4_wine_great_bruschetta_and   \n",
            "6      5    110  5_chinese_hong_kong_noodles   \n",
            "\n",
            "                                      Representation  \\\n",
            "1  [tucson, in, is, the, and, to, of, food, this,...   \n",
            "2  [breakfast, and, the, toast, brunch, was, fren...   \n",
            "3  [pizza, crust, the, to, and, it, is, was, we, ...   \n",
            "4  [tacos, taco, the, asada, and, it, of, but, ar...   \n",
            "5  [wine, great, bruschetta, and, the, beer, is, ...   \n",
            "6  [chinese, hong, kong, noodles, the, dishes, an...   \n",
            "\n",
            "                                 Representative_Docs  \n",
            "1  [If you are looking for amazing red chili... Y...  \n",
            "2  [Me and my brother live down the street and wa...  \n",
            "3  [Mod Pizza's pizza is really good - thin crust...  \n",
            "4  [Gave this little place a try tonight and they...  \n",
            "5  [I very highly recommend this restaurant . The...  \n",
            "6  [So excited to try out another new Asian resta...  \n",
            "\n",
            "Topic 0:\n",
            "Count: 399\n",
            "Keywords (representation): [('tucson', 0.03324117571116611), ('in', 0.019756654263406264), ('is', 0.0163901197414484), ('the', 0.01631653977649752), ('and', 0.016069692143837463), ('to', 0.014287903411647696), ('of', 0.013750058770709622), ('food', 0.01295814532075406), ('this', 0.012287378683176932), ('for', 0.011973244718636488)]\n",
            "Representative documents (first 3): [\"If you are looking for amazing red chili... You have found the best place in Tucson. All of their food is amazing, service is great. Prices are fantastic. You could feed a family for for under $25 at this location with food and drinks included. They have a small seating area if you'd like to sit there and eat, or you can take it to go. The food does take time because it is me to order but it is well worth it. Their salsa is fantastic has a nice little spice. I would consider it in the medium range.\\n\\nOne of my recommendations is if you are in a hurry make sure you order ahead because it does take a little while to get the food out. They do have the option of calling head and pick up with your name.\", 'Lemme start of with this, this place is booty!...man...I came here cause just a few days ago I went to a newly open taco place to get my taco fix and was dissapointed. Saw on the Tucson subreddit that this place was cited best Tucson tacos beating out various other places on a poll so decided to come here cause I trusted I would not be dissapointed just like the other taco place i had visited. Well....I was highly dissapointed.....if this is really the best tacos in TUS I feel sad for the people here and the people reviewing this place highly because these tacos are straight booty. About the crappiest taco I ever had in CA was better than the supposed \"best\" taco here. \\n\\nLets start of with the establishment first and the employees. Walked in and they do have a nice like mural collage thing on the right hand side that has pictures and info of the Apson band.Everything else looks pretty filthy. I wanted to walk out as soon as i stepped in there and it was only because the cashier girl said a loud Hello across the room that I continued in but....as soon as i got closer I realized she had an LA dodgers beanie on and she saw my baseball cap and thought it was from LA aswell but when she realized she made a mistake and it was actually the hat of a rival team her mood kinda changed from happy and giddy to slumping down on the counter and seeming disinterested and as I ordered I kept having to repeat myself cause it seemed like she wasnt paying attention. Anyway I placed my order then walked over to the salsa bar. On my way notice the bathroom area looked filthy the tables looked like decor was the last thing on their mind for the place,flies all over the inside and when I arrived at the salsa bar it looks like they dont have freshly made salsa for the day. I arrived only an hour after opening and 3 salsa were about empty and the rest of the salsa, cabbage,limes and other stuff look like they had been sitting out in the open for days.\\n\\nOn to the food, we decided to sit outside due to the inside looking filthy and the flies. Not the best of my ideas cause outside was fly infested as well and i dont know why i thought it would be different. Anyway we got our tacos. Wife ordered a taco apson and 2 pastor tacos. I ordered 2 tripa and 2 cabeza tacos. Id say the only good one was the taco apson which i believe is carne asada,hass chilies caramelized onions,mushrooms and cheese. I would come back for that single taco and only that taco. The pastor was horrendous, probably the worst in existence. Looks like they used the cheapest pork they could find and tinted it slightly red. Flavor was bland and it had so many fatty pieces in there that it was nasty and the salsa didnt help either. My tripas tacos were over fried. Almost crunchy like i was eating a bunch of kettle chips and the cabeza was bland but for some reason extremely wet. I bit into it and a puddle would accumulate on my plate with every bite and adding salsa to it only made the puddle turn into a freakin river on my plate. Ive never had a cabeza taco that was drenched like that.\\n\\nMy expectations for tacos are high but even with how bad they were I would have given the place a 2 based on the tacos but the actual establishment just looking filthy and uninspired, riddled with flies on the inside and out a zero star would have been more fitting but obviously cant go that low. \\n\\nLike I said, this place is booty but if you decide to go anyway. Get a Taco Apson and thats it. You stray from that path and youll get dissapointed. Being so close to the border you assume a Reddit vote from Tucson residents would be trustworthy but it sure as hell wasnt.', \"Holy crap this place is good... it's like chipotle ( only its street tacos ) and it's 100 times  better! You walk in and it's like they fry your corn or flour tortilla right there, you pick from Spanish rice or white rice w/cilantro, you have your choice of chicken , steak, fish, pork... all the typical taco toppings you desire.... free chips that are kept in a warmer by the salsa bar.... and they serve alcohol! It's everything you want in one spot! With my hubs working in Tucson we decided to try this place out! (( both of us are picky eaters... we tried 1 of everything- no joke, NOTHING WAS BAD!  We even went up to the cashier after eating had said that everything was perfect and the service was great! It's walking distance to my husbands jobsite right now so it's gonna be his spot while he's in Tucson working. If this place was in chandler or closer to me I'd probably be there 3xs a week... and it was NOT expensive . The tacos were like 2.75 each ( and they did not short you on the meat by any means!!! Lived this place ... in fact I love it so much that I'm driving down to Tucson from chandler tomorrow night just so we can go have a margarita and eat there again!!! This place will not disappoint! Hubby had nachos and we tried 1 of each of the tacos, my daughter had a bean n cheese burro! All of it PERFECTION! I cannot say enough great things about this spot!!! Hands down my favorite taco joint EVER!\"]\n",
            "\n",
            "Topic 1:\n",
            "Count: 281\n",
            "Keywords (representation): [('breakfast', 0.02306594566543114), ('and', 0.018775539654116588), ('the', 0.017933364457479565), ('toast', 0.015518060535952461), ('brunch', 0.014935120453214415), ('was', 0.014668341106514498), ('french', 0.0139504618699881), ('for', 0.012979711988967099), ('with', 0.012976592940073516), ('to', 0.012709907809282717)]\n",
            "Representative documents (first 3): [\"Me and my brother live down the street and wanted coffee and breakfast, and he found this spot on google maps. You can barely even notice it from the road, I would've never noticed it and I am very familiar with this area. I am so glad we found it, as this is the only place we will go from now on if we ever wanna go get breakfast!! He got chorizo with eggs, hashbrowns with cheese and toast. I got chicken fried steak with the same sides as well. The fried steak shocked me, it was so light in color like they usually aren't, it is so rare for somewhere to actually change the oil regularly and fry with new oil! So amazing, and the gravy and other stuff all was so great, and they had sourdough toast that was great for it all as well. The coffee and rootbeer was also tasty. I tried his chorizo and wow, some of the best I have had outside cooking at home in such a long time, I kept trying to steal more of it lol. Everything was very affordable too, and I'm excited to try more as the whole menu looks amazing. The restaurant was very cozy and quiet, we went on a Monday around 11 and it was mostly empty and very comfortable. The server was super polite and attentive also. All around a great meal and experience, and I look forward to coming back soon and many times after that, definitely a hidden gem in a part of the southside where we don't have a huge selection of restaurants within walking distance.\", \"Couldn't decide what I wanted to eat so many choices on the menu.   Even though there was a longer wait for our large party the food sounded no delicious that it was definitely worth the wait.    There's a wait list of Yelp but maybe because of covid they weren't using it.   \\n\\nI ordered the preps breakfast sammie with a over medium egg instead of scrabbled, something about runny yolk in a sandwich always gets me.   The bacon and potatoes with my meal get a special mention since it made the dish, so so good.    Since I went with others got to taste a few other delicious dishes like the Monte Cristo, steak and egg sandwich, breakfast poutine.  And what's breakfast without mimosas.  My favorite was the Madras.  \\n\\nLoved their pastries section but unfortunately I was too full after brunch that I didn't get to try anything more than the cookie which hit the spot after my meal.   \\n\\nStaff was very friendly and food came out pretty quickly.   Great breakfast/brunch spot!!!\", \"FIRST TIME: Absolutely LOVE this restaurant!\\n\\nMy family and I decided to be spontaneous and try a new breakfast spot. We found this gem on Yelp but have seen it multiple times because it's literally right next to Baja Cafe (our usual go-to breakfast spot). SO happy we decided to give this place a go! Completely SATISFIED! Don't judge this place by how it looks on the outside, the staff, service, and food are absolutely amazing! \\n\\nToday's breakfast selection:\\n\\n1. Strawberry Glaze French Toast combo: comes with 2 slices of bread cut in half into triangles. They drizzled strawberry glaze and fresh strawberries on top and finish it off with powdered sugar, whipped cream, and a small scoop of butter. The combo came with 2 eggs (any style) and your choice of 2 bacon or sausage (links or patties). Im usually just a plain Jane--I always order plain french toast but this time I ordered the glaze and so glad I did! It was definitely filling and delicious and would order this again!\\n\\n2. Southern Belle Biscuits & Gravy: comes with southern fried chicken, cheese, a biscuit, and of course gravy (we asked for ours on the side). If you like savory, this dish is definitely it! O usually don't like a biscuits and gravy but this dish was delicious! Also very filling as the portions are a decent size! Definitely recommend!\\n\\n3. Kid's 2 pancakes, 1 egg (any style), and your house of 1 bacon or sausage. We asked for chocolate chip pancakes, scrambled egg, and bacon. The portions on this plate was definitely for a big kid and it only cost $4.99! The pancakes are exactly the way we like them! Light and fluffy with crispy edges! Would definitely reorder this in the future! \\n\\nFor drinks we ordered a hot coffee, iced coffee, and 2 kids apple juices. \\n\\nStaff/Service: we arrived around 1100 and from the outside, it didn't look like anyone was in there but when we went inside, the place was pretty busy! Busy is a great sign! As soon as we got in, we were greeted by a staff member and only waited about 5 minutes before we were seated. Our waitress's name was Violet. She was super sweet to us and our kids. As soon as we were seated, she asked what we wanted to drink. Her attentiveness on our table was on point; came by often to make sure she refilled our drinks. We did not wait too long for our food; actually came out pretty quickly! We will definitely be coming back! Thank you for the great experience! This is by far Our new favorite breakfast spot!\\n\\nPro: They do offer military discount 10%.\"]\n",
            "\n",
            "Topic 2:\n",
            "Count: 273\n",
            "Keywords (representation): [('pizza', 0.06641622879569518), ('crust', 0.017009805299551213), ('the', 0.016887224831527107), ('to', 0.01626169506038614), ('and', 0.01520002433667361), ('it', 0.014598158907480152), ('is', 0.013428226226356374), ('was', 0.011997607792085105), ('we', 0.011888042235916677), ('for', 0.011867025539305494)]\n",
            "Representative documents (first 3): [\"Mod Pizza's pizza is really good - thin crust, easy on the cheese, not super greasy or filling like other pizza places.  Just don't overdo the toppings or it will turn out soggy.  The BBQ sauce pizza with bacon is amazing!  The salads are extremely expensive ... especially if you're just a lettuce and dressing kind of person.  Maybe if you pile on the toppings it's worth it but I cringe every time my daughter asks for a salad.  Small romaine with caesar dressing, $6.  McDonald's $1.50 salads are bigger, for comparison.  My problem with this particular location is this:  I spent $85 including tip and when the pizzas came out they looked like crap.  Pizza bubbles all over them (if you aren't familiar, pizza bubbles move the topping and create more crust in the middle of the pizza, or wherever they pop up).  See picture for an example.  When I mentioned it I was told this is their signature look.  Please - I have been eating at Mod Pizza for quite a while now and this is not signature, it's 6 employees standing around not doing their jobs.  Mod Pizza?  YES!  This location? Eh.\", \"Horrible service. I went in today for a XL hot wing pizza and it was absolutely awful. Imagine a cheese pizza with extra extra cheese and a bunch of chicken, soaking in grease. I have eaten this specific pizza a couple times from this location, as I specifically come in for it. Never in all my times coming here, has it been so bad. It was inedible personally. There was so much cheese it was like eating a cheese stick from little Caesar's with way more grease. I called them after taking two or three bites of my pizza just after getting home, directly from their restaurant- to request a new one and to pick it up later tonight. They put me on the phone with the GM (general manager), who said that HE made it and put the regular amount of wing sauce on the pizza. They didn't give me a refund, and refused to make me a new one. I will never come here again and hope to speak to the owner. If you do come here, don't get the got wing pizza as it actually will taste like a load of crap- cheese grease and bread. Way too much cheese and pretty much no hot wing sauce. You can see some on the pizza but it can not be tasted. Don't go here. Mamas pizza is way better and better service as well.\", \"Well, I ordered Pizza Hut again this afternoon and went to pick it up. I didn't check it before I left much to my dismay. I get home and it's not even close to the pizza that I ordered. I'm allergic to pizza sauce and can't have it but I love pizza anyway. So I ordered it without sauce. I brought it back to the store and the young lady proceeded to tell me that it had sauce on top of it. I told her I knew that that's why I ordered it without sauce. Now I'm waiting an extra 25 minutes to get the same pizza that I ordered hoping that it Be right this time. My faith in Pizza Hut is slipping by the minute. Should've ordered from a local company instead. Check your pizza before you leave the store. I realize that this is a busy location and that times have changed. These poor people were running around frantically trying to get these orders out. What I thought was most shocking is the store manager and the district manager were both in the store at the same time I watch them while I waited and they did absolutely nothing to help their crew. So with management like that there's no wonder that that store has many problems. It's such a shame. Pizza Hut was pretty good at one time. Now it's just pure luck whether you get a good pizza or not. It's very sad.\"]\n",
            "\n",
            "Topic 3:\n",
            "Count: 205\n",
            "Keywords (representation): [('tacos', 0.04863761742650177), ('taco', 0.029858193619310497), ('the', 0.01687123709482709), ('asada', 0.01531526648896094), ('and', 0.01518866398607364), ('it', 0.014818298483111036), ('of', 0.014290701335467938), ('but', 0.013277419435960518), ('are', 0.013239203967112013), ('salsa', 0.013025440786890247)]\n",
            "Representative documents (first 3): [\"Gave this little place a try tonight and they had Taco Tuesday! Tacos were $2 and they were stuffed street tacos! Great portion! I ordered their carne asada burrito and it didn't disappoint. I had them add in some guacamole. We also had a side of chips and salsa. At first glance, I wasn't sure we'd like their salsa, but it was very tasty! The burrito came with a red salsa and it was just ok. My husband's tacos were served with a green salsa and that one was our favorite! Their rice and beans were fine, too. We will be back! P.S. the service was very friendly and attentive.\", \"I've been interested in trying this place since I saw it driving past. My husband and I frequently drive 20+ minutes to Aqui con el Nene for carne asada tacos, so I was glad to see this spot open a bit closer to home. We came in on a Friday night, and it was empty so I felt comfortable dining in. Four more tables of people did come in at once just as we were about to leave. They have a large plexiglass separating the cashier from patrons. The cashier was super nice. We had a lot of questions on the menu, and she was really great about explaining everything and giving her recommendations. \\n\\nThere are a LOT of choices. I ended up getting four tacos, because I wanted to try several things. I got a Taco Apson, Hass taco, barbacoa, and al pastor. The Hass and the pastor were my favorites, lots of flavor, but the pastor was pretty greasy. The barbacoa was just okay, and I thought I would like the Apson, but it was greasy and heavy. They do give you a really good portion of meat on your tacos. My husband got the Alambre, and he said the same; it was too heavy. Probably should have just stuck with carne asada tacos. They give you plenty of salsas and pico, but the avocado salsa had begun to brown. The red has some pretty good heat, so avoid it if you don't like spicy.\\n\\nWe did both over-order because we wanted to try a lot of things, but it wasn't very cheap. I think we spent about $40 for two of us and we shared a fountain drink. I might come back if it's convenient, but I will probably just get a couple carne asada tacos and keep it simple.\", \"After hearing about this place for months I finally had the opportunity to give it a try a couple of weeks ago. My friends had highly recommended the fish tacos, specifically the shrimp (which personally I don't eat) but I was willing to give the regular fish tacos and the other options a try. \\n\\nWhen we got there we took a second to look at the menu and the gentleman who was working the register was very polite and allowed us to take our time with ordering despite them being pretty busy.\\n\\nWe ordered a carne asada burrito, two fish tacos, one barbacoa taco, one chicken taco, one carne asada taco, and some chips and guac. The tacos were all brought in on the house-made corn tortillas. I'm just going to give a spoiler and say the best part of the food was the home made tortillas. They were SO GOOD.\\n\\nThe carne asada burrito was good. The meat was prepared well. I think it initially comes with cabbage, cilantro, and onions. I asked them to add rice and beans and they did so free of charge. \\n\\nTacos: \\nCarne Asada - 9.5/10 - everything was great I just liked the barbacoa a little more, probably both deserving of a 10/10 but I'm picking a favorite on this one.\\n\\nBarbacoa - 10/10 - nothing else to say, just get it\\n\\nFried Fish - 7.5/10 - For me, it lacked some flavor. Maybe because the taste of the fish/breading itself was masked by the sauce? I'm not sure but if you give the fish a shot I would recommend the shrimp taco. I haven't tried it but two of my foodie friends recommend it and I trust them. \\n\\nChicken - 6/10 - We asked beforehand if the chicken was grilled chicken and were told that it was but this definitely was not grilled chicken. It really didn't taste like anything and was sort of bland. Just stick with the beef.\\n\\nThey do have a salsa on the side. I'm pretty sure it's just Valentina's salsa based on the heavy vinegar flavor but maybe it's house-made. No disrespect, Valentina's is great but I'm bias towards non-vinegar based salsas. I'm not sure if there are other options but I would have loved something with more spice and flavor if it's available!\"]\n",
            "\n",
            "Topic 4:\n",
            "Count: 133\n",
            "Keywords (representation): [('wine', 0.029847894027098743), ('great', 0.022191941434641864), ('bruschetta', 0.020859238214175554), ('and', 0.019309317886376378), ('the', 0.01796692926971492), ('beer', 0.017024675248184365), ('is', 0.01697662256143542), ('of', 0.016634253991683307), ('place', 0.015590191894726269), ('we', 0.014189870408824478)]\n",
            "Representative documents (first 3): ['I very highly recommend this restaurant . The food was great the wine was great but what makes it stand head and shoulders above any place I have been to is the exceptional service. Our server Hunter was so knowledgeable about the wine and so great we went back for dinner and our other server Tristan was also great and knowledgeable about the food and wine. It was an amazing experience, they are so nice there and loved the atmosphere. Thank you!!!!!', \"Loved everything about this restaurant from the ambiance to the food to the service.    Great concept with different bruschetta options and tapas style dishes.   Since everything sounded amazing on the menu, we actually ordered more food than we needed.   But wasn't complaining since we just took home the leftovers.   Our eyes were hungry looking at the menu but loved everything from the 4 different types of bruschetta, the meat and cheese board, and the meatballs.    \\n\\nFor the 4 types of bruschetta:\\n\\nBrie and Apples with Fig Spread\\nBurrata, Bacon, Arugula & Tomato\\nProsciutto with Figs and Mascarpone\\nFresh Mozzarella, Tomato & Basil\\n\\nGreat presentation on every dish and everything was not too expensive.  Awesome place to hang out with friends, eat great good, and leave very satisfied without spending too much money.   Saw a sign about happy hour before 5pm with wine for $5!   \\n\\nDefinitely check this place out!\", \"I admit, I have never gone to a bruschetta place before. This was also my first time dining in since the pandemic started. When we went, it was around 7:00 p.m., and it was busy. We weren't able to find parking in the lot, so had to park across the street and walk over. Not too bad considering it was a beautiful day in terms of weather. For a table of three, we only had to wait about 15 minutes, despite it looking so busy. I feel like if you have a larger group, it would be much harder to get seating. \\n\\nThe atmosphere was excellent; the overhead music was a little louder than I would prefer, but otherwise it was a more intimate atmosphere than somewhere like culinary dropout across the street (which is the usual choice for louder, larger groups). \\n\\nIn terms of alcohol, they mainly had beers and wines, which was a bit tough on me since I am more of a mixed drink person. However, I was able to choose a pretty mellow wine, which suited my taste. \\n\\nFor the food menu, you'll have to scan a QR code on the drinks menu to view it, rather than a physical menu (or browse on Yelp haha). In terms of the bruschetta, I actually could not choose only four options, since they all sounded so good. I asked our server for recommendations, and took their first four picks. They included: \\n- the sweet and spicy pepper jam with goat cheese (mainly sweet, with mild spice in the back of the throat)\\n- the warm artichoke\\n-the apple and brie fig (the contrast of the crunch of the apple was great)\\n-  the smoked salmon and pesto\\n\\nAll were excellent. I really love places that give a sort of sampler platter style since I usually want to just try multiple things on the menu, but I'm limited by how much I can stuff in my stomach.\\n\\nTl;dr: This is an excellent place to go for smaller groups to enjoy a light meal or foods with some alcohol (though no hard liquor options). I would certainly come back, for multiple reasons, but especially for the bruschetta.\"]\n",
            "\n",
            "Topic 5:\n",
            "Count: 110\n",
            "Keywords (representation): [('chinese', 0.03375715988180075), ('hong', 0.023503231676175854), ('kong', 0.021334931235793386), ('noodles', 0.02031374257523136), ('the', 0.01834221247131945), ('dishes', 0.016245187760477325), ('and', 0.016224821048778412), ('of', 0.015737151694109767), ('noodle', 0.015346572927801623), ('in', 0.014809131199295328)]\n",
            "Representative documents (first 3): ['So excited to try out another new Asian restaurant in Tucson! The specific focus on Hong Kong, Chinese, and Taiwanese cuisine is peculiar in the Arizona desert, but definitely well-appreciated. Prior to 81 Hong Kong Cafe, the representation of Hong Kong and Taiwanese cuisines in Tucson was lacking. It is comforting to see 81 Hong Kong Cafe add to the growing list of Asian restaurants in the Tucson area.\\n\\nWe ordered a variety of entrees and desserts for take-out. The food we received was very well-packaged - I was most impressed with the care taken to package the soups and other wet foods as to prevent leakage. Overall, the entrees that we ordered (garlic spinach, beef chow-fun, shrimp chow-fun) tasted great. For the most part, the flavors were well-balanced (with the exception of the hot & sour soup, which was much more sour than it was hot). The desserts were also a delight: just sweet enough to satisfy the sweet tooth, but light enough as to not elicit any calorie-induced guilt. \\n\\nI am definitely looking forward to returning here a few more times to try out everything else on their vast menu!', \"I admit, the main reason I ordered from here the other day was because I saw sweet rice with mango and coconut milk on the menu. From my understanding, This is traditionally a Thai dish, and I've only had it as street food, or at a Thai restaurant. However, this is something I've been craving for months, and it gave me an excuse to check this place out. \\n\\nI had my order delivered, so I have no comments on the physical store itself or the service at the restaurant. I ordered the three cup chicken, basil eggplant (in garlic sauce), the aforemented mango sticky rice, and a side of rice. I was pleasantly surprised to also see a serving of clam chowder included. Not exactly something I think of when I go to any Chinese restaurant, but it tasted fine.\\n\\nI admit, the food was lackluster in my opinion. I have ordered three cup chicken a couple times before elsewhere, so I'm somewhat familiar with the contents of the dish. Some positive parts of this include that there were visible basil leaves, peppers, large ginger slices, and garlic. The taste of all these wasn't actually too strong, and I could eat most of them with my dishes--I assumed this means that it was cooked for a while. The chicken itself, however, was disappointing. The pieces included were not chunks of thigh meat as I expected, and were honestly more bone and skin than meat. There were odd chunks of vertebrae with the surrounding meat (sadly, this was one of the better cuts they included as it at least had some meat and it was succulent), the ends of chicken wings / thighs which only had the skin with no actual meat, and odd cuts of meat where I couldn't really discern which part I was given, but were more bone and grittiness (from bone fragments) in my mouth than actual meat pieces. Now, the flavor itself wasn't terrible and mainly came from the sauce. However, I was sorely disappointed with the actual lack of meat, and the effort I had to put into even eat the meat. The skin was also not crispy; if it was maybe it could have saved the dish slightly as an additional texture, but it probably would have highlighted how much skin and how little meat there was. Would not order again.\\n\\nThe eggplant dish was fairly generous in it's portion, especially in comparison to the chicken dish. The garlic sauce wasn't bad, though when I usually order this dish elsewhere, I don't think they include basil leaves (though to be fair, the name IS basil eggplant). To be honest, the flavors were very similar to the chicken dish, which I wasn't quite expecting. Most of the flavor of this dish came from the sauce, not that that is surprising as this traditionally is a fairly heavy sauce, and was garlicky as I expected from ordering this dish elsewhere. However, the eggplant didn't have much substance, and to be honest, I couldn't really taste it. Was wondering if it was way too overcooked. Still preferred over the chicken dish at this point. However, I would not be eager to order this again.\\nI appreciatied that they tried to contain the sauce by putting some plastic wrap over the takeout container, but the sauce still got everywhere and was seeping through the bottom of my takeout/delivery bag. Ate some leftovers today, and ended up just stirring together rice, the sauce, and eggplant. It turned into this homogeneous mush, with the eggplants almost totally disintegrating. It tasted alright, but eggplants should have been the star of the dish and were decidedly not.\\n\\nLastly, the sticky rice dessert. The portion was smaller than expected, and there was little coconut milk, though perhaps the rice absorbed it in the time it took to be delivered to my house. What was more disconcerting, was that the rice was quite tough, with a hard center which makes me think that it wasn't fully cooked. This was surprising, as sweet sticky rice, and let's be honest even ordinary rice, should not really be this texture. I think they may have mixed in some red beans also, which made that flavor quite strong and took away the subtle sweet flavor that should have been inherent in the sweet sticky rice. The last nail in the coffin for this dish for me was that the toppings were not fresh mango slices as advertised in the delivery app. Instead, it was chunks of pudding, which reminded me of the pudding you can often find in milk teas. I don't think it was even mango flavored and if it was, the flavor was much too bland especially when competing with the overpowering (red bean?) sticky rice. It did provide some texture, but was quite underwhelming. Personally, I would not order it again.\\n\\nDid I order the wrong dishes from here? Maybe I should have ordered what other reviewers praised, but I was not in the mood for a pasta/noodle dish and wanted some Taiwanese/HK dishes. Not sure if I want to give this place another try, and will probably stick with the mainland Chinese restaurant options nearby.\", \"We have been to 81 HK Cafe three times so far, and we are seriously working our way through the menu.  Wonderful Hong Kong and Taiwanese style food is offered as well as a number of standard Chinese food dishes typically found in Tucson.  Don't avoid those standard dishes though as they do an amazing job with everyone of them.  I even love their orange chicken, a dish I usually avoid.  Appetizers:  so far we have tried the dumplings, scallion cake, and the scallion bomb cake.  The dumplings were tender pillows of deliciousness somehow avoiding the tough texture I have encountered before but not so delicate they fall apart as soon as you pick them up.  The scallion cakes are actually a sort of pancake or crepe with a light texture, more on the savory side.  Greta with chili oil.  Both are good, but note they are pretty filling, so be willing to take home leftovers for the next day.  Mains:  Kung Pao chicken - stupendously flavorful, an excellent take on my favorite standard.  Orange chicken - perfectly fried chicken in a sweet-tart-spicy sauce.  Kudos for making one that I actually not only ate but thoroughly enjoyed.  Singapore rice noodle - again an excellent execution on this standard dish.  Not too saucy and not at all bland.  I didn't want to stop eating.  Sliced pork noodle - something new for me, much more subtle in flavor, but amazing textures.  This dish was crispier rice noodles with a light sauce and lots of mushroom, pork etc.  This dish is best tackled with chopsticks to detangle the noodles effectively mixing in the really good stuff.  We will be back soon. To continue this adventure.  My absolutely favorite Chinese cuisine so far.\"]\n"
          ]
        },
        {
          "output_type": "display_data",
          "data": {
            "text/html": [
              "<html>\n",
              "<head><meta charset=\"utf-8\" /></head>\n",
              "<body>\n",
              "    <div>            <script src=\"https://cdnjs.cloudflare.com/ajax/libs/mathjax/2.7.5/MathJax.js?config=TeX-AMS-MML_SVG\"></script><script type=\"text/javascript\">if (window.MathJax && window.MathJax.Hub && window.MathJax.Hub.Config) {window.MathJax.Hub.Config({SVG: {font: \"STIX-Web\"}});}</script>                <script type=\"text/javascript\">window.PlotlyConfig = {MathJaxConfig: 'local'};</script>\n",
              "        <script charset=\"utf-8\" src=\"https://cdn.plot.ly/plotly-2.35.2.min.js\"></script>                <div id=\"e796e3cd-393a-48b9-b889-29de8ea6dbd5\" class=\"plotly-graph-div\" style=\"height:500px; width:1000px;\"></div>            <script type=\"text/javascript\">                                    window.PLOTLYENV=window.PLOTLYENV || {};                                    if (document.getElementById(\"e796e3cd-393a-48b9-b889-29de8ea6dbd5\")) {                    Plotly.newPlot(                        \"e796e3cd-393a-48b9-b889-29de8ea6dbd5\",                        [{\"marker\":{\"color\":\"#D55E00\"},\"orientation\":\"h\",\"x\":[0.016069692143837463,0.01631653977649752,0.0163901197414484,0.019756654263406264,0.03324117571116611],\"y\":[\"and  \",\"the  \",\"is  \",\"in  \",\"tucson  \"],\"type\":\"bar\",\"xaxis\":\"x\",\"yaxis\":\"y\"},{\"marker\":{\"color\":\"#0072B2\"},\"orientation\":\"h\",\"x\":[0.014935120453214415,0.015518060535952461,0.017933364457479565,0.018775539654116588,0.02306594566543114],\"y\":[\"brunch  \",\"toast  \",\"the  \",\"and  \",\"breakfast  \"],\"type\":\"bar\",\"xaxis\":\"x2\",\"yaxis\":\"y2\"},{\"marker\":{\"color\":\"#CC79A7\"},\"orientation\":\"h\",\"x\":[0.01520002433667361,0.01626169506038614,0.016887224831527107,0.017009805299551213,0.06641622879569518],\"y\":[\"and  \",\"to  \",\"the  \",\"crust  \",\"pizza  \"],\"type\":\"bar\",\"xaxis\":\"x3\",\"yaxis\":\"y3\"},{\"marker\":{\"color\":\"#E69F00\"},\"orientation\":\"h\",\"x\":[0.01518866398607364,0.01531526648896094,0.01687123709482709,0.029858193619310497,0.04863761742650177],\"y\":[\"and  \",\"asada  \",\"the  \",\"taco  \",\"tacos  \"],\"type\":\"bar\",\"xaxis\":\"x4\",\"yaxis\":\"y4\"},{\"marker\":{\"color\":\"#56B4E9\"},\"orientation\":\"h\",\"x\":[0.01796692926971492,0.019309317886376378,0.020859238214175554,0.022191941434641864,0.029847894027098743],\"y\":[\"the  \",\"and  \",\"bruschetta  \",\"great  \",\"wine  \"],\"type\":\"bar\",\"xaxis\":\"x5\",\"yaxis\":\"y5\"},{\"marker\":{\"color\":\"#009E73\"},\"orientation\":\"h\",\"x\":[0.01834221247131945,0.02031374257523136,0.021334931235793386,0.023503231676175854,0.03375715988180075],\"y\":[\"the  \",\"noodles  \",\"kong  \",\"hong  \",\"chinese  \"],\"type\":\"bar\",\"xaxis\":\"x6\",\"yaxis\":\"y6\"}],                        {\"template\":{\"data\":{\"barpolar\":[{\"marker\":{\"line\":{\"color\":\"white\",\"width\":0.5},\"pattern\":{\"fillmode\":\"overlay\",\"size\":10,\"solidity\":0.2}},\"type\":\"barpolar\"}],\"bar\":[{\"error_x\":{\"color\":\"#2a3f5f\"},\"error_y\":{\"color\":\"#2a3f5f\"},\"marker\":{\"line\":{\"color\":\"white\",\"width\":0.5},\"pattern\":{\"fillmode\":\"overlay\",\"size\":10,\"solidity\":0.2}},\"type\":\"bar\"}],\"carpet\":[{\"aaxis\":{\"endlinecolor\":\"#2a3f5f\",\"gridcolor\":\"#C8D4E3\",\"linecolor\":\"#C8D4E3\",\"minorgridcolor\":\"#C8D4E3\",\"startlinecolor\":\"#2a3f5f\"},\"baxis\":{\"endlinecolor\":\"#2a3f5f\",\"gridcolor\":\"#C8D4E3\",\"linecolor\":\"#C8D4E3\",\"minorgridcolor\":\"#C8D4E3\",\"startlinecolor\":\"#2a3f5f\"},\"type\":\"carpet\"}],\"choropleth\":[{\"colorbar\":{\"outlinewidth\":0,\"ticks\":\"\"},\"type\":\"choropleth\"}],\"contourcarpet\":[{\"colorbar\":{\"outlinewidth\":0,\"ticks\":\"\"},\"type\":\"contourcarpet\"}],\"contour\":[{\"colorbar\":{\"outlinewidth\":0,\"ticks\":\"\"},\"colorscale\":[[0.0,\"#0d0887\"],[0.1111111111111111,\"#46039f\"],[0.2222222222222222,\"#7201a8\"],[0.3333333333333333,\"#9c179e\"],[0.4444444444444444,\"#bd3786\"],[0.5555555555555556,\"#d8576b\"],[0.6666666666666666,\"#ed7953\"],[0.7777777777777778,\"#fb9f3a\"],[0.8888888888888888,\"#fdca26\"],[1.0,\"#f0f921\"]],\"type\":\"contour\"}],\"heatmapgl\":[{\"colorbar\":{\"outlinewidth\":0,\"ticks\":\"\"},\"colorscale\":[[0.0,\"#0d0887\"],[0.1111111111111111,\"#46039f\"],[0.2222222222222222,\"#7201a8\"],[0.3333333333333333,\"#9c179e\"],[0.4444444444444444,\"#bd3786\"],[0.5555555555555556,\"#d8576b\"],[0.6666666666666666,\"#ed7953\"],[0.7777777777777778,\"#fb9f3a\"],[0.8888888888888888,\"#fdca26\"],[1.0,\"#f0f921\"]],\"type\":\"heatmapgl\"}],\"heatmap\":[{\"colorbar\":{\"outlinewidth\":0,\"ticks\":\"\"},\"colorscale\":[[0.0,\"#0d0887\"],[0.1111111111111111,\"#46039f\"],[0.2222222222222222,\"#7201a8\"],[0.3333333333333333,\"#9c179e\"],[0.4444444444444444,\"#bd3786\"],[0.5555555555555556,\"#d8576b\"],[0.6666666666666666,\"#ed7953\"],[0.7777777777777778,\"#fb9f3a\"],[0.8888888888888888,\"#fdca26\"],[1.0,\"#f0f921\"]],\"type\":\"heatmap\"}],\"histogram2dcontour\":[{\"colorbar\":{\"outlinewidth\":0,\"ticks\":\"\"},\"colorscale\":[[0.0,\"#0d0887\"],[0.1111111111111111,\"#46039f\"],[0.2222222222222222,\"#7201a8\"],[0.3333333333333333,\"#9c179e\"],[0.4444444444444444,\"#bd3786\"],[0.5555555555555556,\"#d8576b\"],[0.6666666666666666,\"#ed7953\"],[0.7777777777777778,\"#fb9f3a\"],[0.8888888888888888,\"#fdca26\"],[1.0,\"#f0f921\"]],\"type\":\"histogram2dcontour\"}],\"histogram2d\":[{\"colorbar\":{\"outlinewidth\":0,\"ticks\":\"\"},\"colorscale\":[[0.0,\"#0d0887\"],[0.1111111111111111,\"#46039f\"],[0.2222222222222222,\"#7201a8\"],[0.3333333333333333,\"#9c179e\"],[0.4444444444444444,\"#bd3786\"],[0.5555555555555556,\"#d8576b\"],[0.6666666666666666,\"#ed7953\"],[0.7777777777777778,\"#fb9f3a\"],[0.8888888888888888,\"#fdca26\"],[1.0,\"#f0f921\"]],\"type\":\"histogram2d\"}],\"histogram\":[{\"marker\":{\"pattern\":{\"fillmode\":\"overlay\",\"size\":10,\"solidity\":0.2}},\"type\":\"histogram\"}],\"mesh3d\":[{\"colorbar\":{\"outlinewidth\":0,\"ticks\":\"\"},\"type\":\"mesh3d\"}],\"parcoords\":[{\"line\":{\"colorbar\":{\"outlinewidth\":0,\"ticks\":\"\"}},\"type\":\"parcoords\"}],\"pie\":[{\"automargin\":true,\"type\":\"pie\"}],\"scatter3d\":[{\"line\":{\"colorbar\":{\"outlinewidth\":0,\"ticks\":\"\"}},\"marker\":{\"colorbar\":{\"outlinewidth\":0,\"ticks\":\"\"}},\"type\":\"scatter3d\"}],\"scattercarpet\":[{\"marker\":{\"colorbar\":{\"outlinewidth\":0,\"ticks\":\"\"}},\"type\":\"scattercarpet\"}],\"scattergeo\":[{\"marker\":{\"colorbar\":{\"outlinewidth\":0,\"ticks\":\"\"}},\"type\":\"scattergeo\"}],\"scattergl\":[{\"marker\":{\"colorbar\":{\"outlinewidth\":0,\"ticks\":\"\"}},\"type\":\"scattergl\"}],\"scattermapbox\":[{\"marker\":{\"colorbar\":{\"outlinewidth\":0,\"ticks\":\"\"}},\"type\":\"scattermapbox\"}],\"scatterpolargl\":[{\"marker\":{\"colorbar\":{\"outlinewidth\":0,\"ticks\":\"\"}},\"type\":\"scatterpolargl\"}],\"scatterpolar\":[{\"marker\":{\"colorbar\":{\"outlinewidth\":0,\"ticks\":\"\"}},\"type\":\"scatterpolar\"}],\"scatter\":[{\"fillpattern\":{\"fillmode\":\"overlay\",\"size\":10,\"solidity\":0.2},\"type\":\"scatter\"}],\"scatterternary\":[{\"marker\":{\"colorbar\":{\"outlinewidth\":0,\"ticks\":\"\"}},\"type\":\"scatterternary\"}],\"surface\":[{\"colorbar\":{\"outlinewidth\":0,\"ticks\":\"\"},\"colorscale\":[[0.0,\"#0d0887\"],[0.1111111111111111,\"#46039f\"],[0.2222222222222222,\"#7201a8\"],[0.3333333333333333,\"#9c179e\"],[0.4444444444444444,\"#bd3786\"],[0.5555555555555556,\"#d8576b\"],[0.6666666666666666,\"#ed7953\"],[0.7777777777777778,\"#fb9f3a\"],[0.8888888888888888,\"#fdca26\"],[1.0,\"#f0f921\"]],\"type\":\"surface\"}],\"table\":[{\"cells\":{\"fill\":{\"color\":\"#EBF0F8\"},\"line\":{\"color\":\"white\"}},\"header\":{\"fill\":{\"color\":\"#C8D4E3\"},\"line\":{\"color\":\"white\"}},\"type\":\"table\"}]},\"layout\":{\"annotationdefaults\":{\"arrowcolor\":\"#2a3f5f\",\"arrowhead\":0,\"arrowwidth\":1},\"autotypenumbers\":\"strict\",\"coloraxis\":{\"colorbar\":{\"outlinewidth\":0,\"ticks\":\"\"}},\"colorscale\":{\"diverging\":[[0,\"#8e0152\"],[0.1,\"#c51b7d\"],[0.2,\"#de77ae\"],[0.3,\"#f1b6da\"],[0.4,\"#fde0ef\"],[0.5,\"#f7f7f7\"],[0.6,\"#e6f5d0\"],[0.7,\"#b8e186\"],[0.8,\"#7fbc41\"],[0.9,\"#4d9221\"],[1,\"#276419\"]],\"sequential\":[[0.0,\"#0d0887\"],[0.1111111111111111,\"#46039f\"],[0.2222222222222222,\"#7201a8\"],[0.3333333333333333,\"#9c179e\"],[0.4444444444444444,\"#bd3786\"],[0.5555555555555556,\"#d8576b\"],[0.6666666666666666,\"#ed7953\"],[0.7777777777777778,\"#fb9f3a\"],[0.8888888888888888,\"#fdca26\"],[1.0,\"#f0f921\"]],\"sequentialminus\":[[0.0,\"#0d0887\"],[0.1111111111111111,\"#46039f\"],[0.2222222222222222,\"#7201a8\"],[0.3333333333333333,\"#9c179e\"],[0.4444444444444444,\"#bd3786\"],[0.5555555555555556,\"#d8576b\"],[0.6666666666666666,\"#ed7953\"],[0.7777777777777778,\"#fb9f3a\"],[0.8888888888888888,\"#fdca26\"],[1.0,\"#f0f921\"]]},\"colorway\":[\"#636efa\",\"#EF553B\",\"#00cc96\",\"#ab63fa\",\"#FFA15A\",\"#19d3f3\",\"#FF6692\",\"#B6E880\",\"#FF97FF\",\"#FECB52\"],\"font\":{\"color\":\"#2a3f5f\"},\"geo\":{\"bgcolor\":\"white\",\"lakecolor\":\"white\",\"landcolor\":\"white\",\"showlakes\":true,\"showland\":true,\"subunitcolor\":\"#C8D4E3\"},\"hoverlabel\":{\"align\":\"left\"},\"hovermode\":\"closest\",\"mapbox\":{\"style\":\"light\"},\"paper_bgcolor\":\"white\",\"plot_bgcolor\":\"white\",\"polar\":{\"angularaxis\":{\"gridcolor\":\"#EBF0F8\",\"linecolor\":\"#EBF0F8\",\"ticks\":\"\"},\"bgcolor\":\"white\",\"radialaxis\":{\"gridcolor\":\"#EBF0F8\",\"linecolor\":\"#EBF0F8\",\"ticks\":\"\"}},\"scene\":{\"xaxis\":{\"backgroundcolor\":\"white\",\"gridcolor\":\"#DFE8F3\",\"gridwidth\":2,\"linecolor\":\"#EBF0F8\",\"showbackground\":true,\"ticks\":\"\",\"zerolinecolor\":\"#EBF0F8\"},\"yaxis\":{\"backgroundcolor\":\"white\",\"gridcolor\":\"#DFE8F3\",\"gridwidth\":2,\"linecolor\":\"#EBF0F8\",\"showbackground\":true,\"ticks\":\"\",\"zerolinecolor\":\"#EBF0F8\"},\"zaxis\":{\"backgroundcolor\":\"white\",\"gridcolor\":\"#DFE8F3\",\"gridwidth\":2,\"linecolor\":\"#EBF0F8\",\"showbackground\":true,\"ticks\":\"\",\"zerolinecolor\":\"#EBF0F8\"}},\"shapedefaults\":{\"line\":{\"color\":\"#2a3f5f\"}},\"ternary\":{\"aaxis\":{\"gridcolor\":\"#DFE8F3\",\"linecolor\":\"#A2B1C6\",\"ticks\":\"\"},\"baxis\":{\"gridcolor\":\"#DFE8F3\",\"linecolor\":\"#A2B1C6\",\"ticks\":\"\"},\"bgcolor\":\"white\",\"caxis\":{\"gridcolor\":\"#DFE8F3\",\"linecolor\":\"#A2B1C6\",\"ticks\":\"\"}},\"title\":{\"x\":0.05},\"xaxis\":{\"automargin\":true,\"gridcolor\":\"#EBF0F8\",\"linecolor\":\"#EBF0F8\",\"ticks\":\"\",\"title\":{\"standoff\":15},\"zerolinecolor\":\"#EBF0F8\",\"zerolinewidth\":2},\"yaxis\":{\"automargin\":true,\"gridcolor\":\"#EBF0F8\",\"linecolor\":\"#EBF0F8\",\"ticks\":\"\",\"title\":{\"standoff\":15},\"zerolinecolor\":\"#EBF0F8\",\"zerolinewidth\":2}}},\"xaxis\":{\"anchor\":\"y\",\"domain\":[0.0,0.175],\"showgrid\":true},\"yaxis\":{\"anchor\":\"x\",\"domain\":[0.6000000000000001,1.0],\"showgrid\":true},\"xaxis2\":{\"anchor\":\"y2\",\"domain\":[0.275,0.45],\"showgrid\":true},\"yaxis2\":{\"anchor\":\"x2\",\"domain\":[0.6000000000000001,1.0],\"showgrid\":true},\"xaxis3\":{\"anchor\":\"y3\",\"domain\":[0.55,0.7250000000000001],\"showgrid\":true},\"yaxis3\":{\"anchor\":\"x3\",\"domain\":[0.6000000000000001,1.0],\"showgrid\":true},\"xaxis4\":{\"anchor\":\"y4\",\"domain\":[0.825,1.0],\"showgrid\":true},\"yaxis4\":{\"anchor\":\"x4\",\"domain\":[0.6000000000000001,1.0],\"showgrid\":true},\"xaxis5\":{\"anchor\":\"y5\",\"domain\":[0.0,0.175],\"showgrid\":true},\"yaxis5\":{\"anchor\":\"x5\",\"domain\":[0.0,0.4],\"showgrid\":true},\"xaxis6\":{\"anchor\":\"y6\",\"domain\":[0.275,0.45],\"showgrid\":true},\"yaxis6\":{\"anchor\":\"x6\",\"domain\":[0.0,0.4],\"showgrid\":true},\"xaxis7\":{\"anchor\":\"y7\",\"domain\":[0.55,0.7250000000000001],\"showgrid\":true},\"yaxis7\":{\"anchor\":\"x7\",\"domain\":[0.0,0.4],\"showgrid\":true},\"xaxis8\":{\"anchor\":\"y8\",\"domain\":[0.825,1.0],\"showgrid\":true},\"yaxis8\":{\"anchor\":\"x8\",\"domain\":[0.0,0.4],\"showgrid\":true},\"annotations\":[{\"font\":{\"size\":16},\"showarrow\":false,\"text\":\"Topic 0\",\"x\":0.0875,\"xanchor\":\"center\",\"xref\":\"paper\",\"y\":1.0,\"yanchor\":\"bottom\",\"yref\":\"paper\"},{\"font\":{\"size\":16},\"showarrow\":false,\"text\":\"Topic 1\",\"x\":0.36250000000000004,\"xanchor\":\"center\",\"xref\":\"paper\",\"y\":1.0,\"yanchor\":\"bottom\",\"yref\":\"paper\"},{\"font\":{\"size\":16},\"showarrow\":false,\"text\":\"Topic 2\",\"x\":0.6375000000000001,\"xanchor\":\"center\",\"xref\":\"paper\",\"y\":1.0,\"yanchor\":\"bottom\",\"yref\":\"paper\"},{\"font\":{\"size\":16},\"showarrow\":false,\"text\":\"Topic 3\",\"x\":0.9125,\"xanchor\":\"center\",\"xref\":\"paper\",\"y\":1.0,\"yanchor\":\"bottom\",\"yref\":\"paper\"},{\"font\":{\"size\":16},\"showarrow\":false,\"text\":\"Topic 4\",\"x\":0.0875,\"xanchor\":\"center\",\"xref\":\"paper\",\"y\":0.4,\"yanchor\":\"bottom\",\"yref\":\"paper\"},{\"font\":{\"size\":16},\"showarrow\":false,\"text\":\"Topic 5\",\"x\":0.36250000000000004,\"xanchor\":\"center\",\"xref\":\"paper\",\"y\":0.4,\"yanchor\":\"bottom\",\"yref\":\"paper\"}],\"title\":{\"font\":{\"size\":22,\"color\":\"Black\"},\"text\":\"Topic Word Scores\",\"x\":0.5,\"xanchor\":\"center\",\"yanchor\":\"top\"},\"hoverlabel\":{\"font\":{\"size\":16,\"family\":\"Rockwell\"},\"bgcolor\":\"white\"},\"showlegend\":false,\"width\":1000,\"height\":500},                        {\"responsive\": true}                    ).then(function(){\n",
              "                            \n",
              "var gd = document.getElementById('e796e3cd-393a-48b9-b889-29de8ea6dbd5');\n",
              "var x = new MutationObserver(function (mutations, observer) {{\n",
              "        var display = window.getComputedStyle(gd).display;\n",
              "        if (!display || display === 'none') {{\n",
              "            console.log([gd, 'removed!']);\n",
              "            Plotly.purge(gd);\n",
              "            observer.disconnect();\n",
              "        }}\n",
              "}});\n",
              "\n",
              "// Listen for the removal of the full notebook cells\n",
              "var notebookContainer = gd.closest('#notebook-container');\n",
              "if (notebookContainer) {{\n",
              "    x.observe(notebookContainer, {childList: true});\n",
              "}}\n",
              "\n",
              "// Listen for the clearing of the current output cell\n",
              "var outputEl = gd.closest('.output');\n",
              "if (outputEl) {{\n",
              "    x.observe(outputEl, {childList: true});\n",
              "}}\n",
              "\n",
              "                        })                };                            </script>        </div>\n",
              "</body>\n",
              "</html>"
            ]
          },
          "metadata": {}
        }
      ]
    },
    {
      "cell_type": "markdown",
      "source": [
        "Markdown Cell 6: Interpret Each Topic"
      ],
      "metadata": {
        "id": "K28z2MsiBB-a"
      }
    },
    {
      "cell_type": "markdown",
      "source": [
        "**Interpretation of Topics:**\n",
        "\n",
        "- **Topic 0:** This topic primarily focuses on food quality. Reviews mention taste, freshness, and presentation, indicating that customers care about the overall quality of the dishes.\n",
        "\n",
        "- **Topic 1:** This cluster relates to service experience, with keywords suggesting discussions about staff attitude, wait times, and customer service issues.\n",
        "\n",
        "- **Topic 2:** This group centers on the restaurant environment, including comments on ambiance, decor, and seating arrangements.\n",
        "\n",
        "- **Topic 3:** This topic appears to deal with price and value, with reviews often mentioning cost, portion size, and value for money.\n",
        "\n",
        "- **Topic 4:** This theme may be associated with location and convenience, touching upon restaurant location, parking, and accessibility.\n",
        "\n",
        "- **Topic 5:** This topic reflects feedback on specific dishes or unique aspects of the restaurant, highlighting particular strengths or shortcomings.\n",
        "\n",
        "\n",
        "*Note: The interpretations are based on the keywords and representative documents generated by the model and may vary depending on the data.*\n"
      ],
      "metadata": {
        "id": "MwC85FxUBMWi"
      }
    },
    {
      "cell_type": "markdown",
      "source": [
        "Code Cell 7: Visualize Relationships Among Topics"
      ],
      "metadata": {
        "id": "Ngq1O_SCBVJl"
      }
    },
    {
      "cell_type": "code",
      "source": [
        "# Code Cell 7: Visualize relationships among topics.\n",
        "# Visualize the intertopic distance map for the top 6 topics.\n",
        "fig1 = topic_model.visualize_topics(top_n_topics=6)\n",
        "fig1.show()\n",
        "\n",
        "# Visualize the topic hierarchy.\n",
        "fig2 = topic_model.visualize_hierarchy(top_n_topics=6)\n",
        "fig2.show()\n",
        "\n",
        "# Visualize the distribution of topic probabilities.\n",
        "# Instead of passing the full 2D array `probs`, we pass the probability vector for a single document.\n",
        "# For example, we use the first document's topic probability distribution.\n",
        "fig3 = topic_model.visualize_distribution(probabilities=probs[0], min_probability=0.015)\n",
        "fig3.show()\n"
      ],
      "metadata": {
        "colab": {
          "base_uri": "https://localhost:8080/",
          "height": 1000
        },
        "id": "kXFDt6AwBTDR",
        "outputId": "c3bb9633-baa2-41fc-eda5-2d26ac62a344"
      },
      "execution_count": null,
      "outputs": [
        {
          "output_type": "display_data",
          "data": {
            "text/html": [
              "<html>\n",
              "<head><meta charset=\"utf-8\" /></head>\n",
              "<body>\n",
              "    <div>            <script src=\"https://cdnjs.cloudflare.com/ajax/libs/mathjax/2.7.5/MathJax.js?config=TeX-AMS-MML_SVG\"></script><script type=\"text/javascript\">if (window.MathJax && window.MathJax.Hub && window.MathJax.Hub.Config) {window.MathJax.Hub.Config({SVG: {font: \"STIX-Web\"}});}</script>                <script type=\"text/javascript\">window.PlotlyConfig = {MathJaxConfig: 'local'};</script>\n",
              "        <script charset=\"utf-8\" src=\"https://cdn.plot.ly/plotly-2.35.2.min.js\"></script>                <div id=\"5bec8575-deee-435a-bc94-701023756d53\" class=\"plotly-graph-div\" style=\"height:650px; width:650px;\"></div>            <script type=\"text/javascript\">                                    window.PLOTLYENV=window.PLOTLYENV || {};                                    if (document.getElementById(\"5bec8575-deee-435a-bc94-701023756d53\")) {                    Plotly.newPlot(                        \"5bec8575-deee-435a-bc94-701023756d53\",                        [{\"customdata\":[[0,\"tucson | in | is | the | and\",399],[1,\"breakfast | and | the | toast | brunch\",281],[2,\"pizza | crust | the | to | and\",273],[3,\"tacos | taco | the | asada | and\",205],[4,\"wine | great | bruschetta | and | the\",133],[5,\"chinese | hong | kong | noodles | the\",110]],\"hovertemplate\":\"\\u003cb\\u003eTopic %{customdata[0]}\\u003c\\u002fb\\u003e\\u003cbr\\u003e%{customdata[1]}\\u003cbr\\u003eSize: %{customdata[2]}\",\"legendgroup\":\"\",\"marker\":{\"color\":\"#B0BEC5\",\"size\":[399,281,273,205,133,110],\"sizemode\":\"area\",\"sizeref\":0.249375,\"symbol\":\"circle\",\"line\":{\"color\":\"DarkSlateGrey\",\"width\":2}},\"mode\":\"markers\",\"name\":\"\",\"orientation\":\"v\",\"showlegend\":false,\"x\":[-1.2413261,-0.42775252,-0.6898677,-1.9133315,-0.19167472,0.06623279],\"xaxis\":\"x\",\"y\":[12.892841,13.15307,12.196441,10.778092,11.05078,12.759171],\"yaxis\":\"y\",\"type\":\"scatter\"}],                        {\"template\":{\"data\":{\"barpolar\":[{\"marker\":{\"line\":{\"color\":\"white\",\"width\":0.5},\"pattern\":{\"fillmode\":\"overlay\",\"size\":10,\"solidity\":0.2}},\"type\":\"barpolar\"}],\"bar\":[{\"error_x\":{\"color\":\"rgb(36,36,36)\"},\"error_y\":{\"color\":\"rgb(36,36,36)\"},\"marker\":{\"line\":{\"color\":\"white\",\"width\":0.5},\"pattern\":{\"fillmode\":\"overlay\",\"size\":10,\"solidity\":0.2}},\"type\":\"bar\"}],\"carpet\":[{\"aaxis\":{\"endlinecolor\":\"rgb(36,36,36)\",\"gridcolor\":\"white\",\"linecolor\":\"white\",\"minorgridcolor\":\"white\",\"startlinecolor\":\"rgb(36,36,36)\"},\"baxis\":{\"endlinecolor\":\"rgb(36,36,36)\",\"gridcolor\":\"white\",\"linecolor\":\"white\",\"minorgridcolor\":\"white\",\"startlinecolor\":\"rgb(36,36,36)\"},\"type\":\"carpet\"}],\"choropleth\":[{\"colorbar\":{\"outlinewidth\":1,\"tickcolor\":\"rgb(36,36,36)\",\"ticks\":\"outside\"},\"type\":\"choropleth\"}],\"contourcarpet\":[{\"colorbar\":{\"outlinewidth\":1,\"tickcolor\":\"rgb(36,36,36)\",\"ticks\":\"outside\"},\"type\":\"contourcarpet\"}],\"contour\":[{\"colorbar\":{\"outlinewidth\":1,\"tickcolor\":\"rgb(36,36,36)\",\"ticks\":\"outside\"},\"colorscale\":[[0.0,\"#440154\"],[0.1111111111111111,\"#482878\"],[0.2222222222222222,\"#3e4989\"],[0.3333333333333333,\"#31688e\"],[0.4444444444444444,\"#26828e\"],[0.5555555555555556,\"#1f9e89\"],[0.6666666666666666,\"#35b779\"],[0.7777777777777778,\"#6ece58\"],[0.8888888888888888,\"#b5de2b\"],[1.0,\"#fde725\"]],\"type\":\"contour\"}],\"heatmapgl\":[{\"colorbar\":{\"outlinewidth\":1,\"tickcolor\":\"rgb(36,36,36)\",\"ticks\":\"outside\"},\"colorscale\":[[0.0,\"#440154\"],[0.1111111111111111,\"#482878\"],[0.2222222222222222,\"#3e4989\"],[0.3333333333333333,\"#31688e\"],[0.4444444444444444,\"#26828e\"],[0.5555555555555556,\"#1f9e89\"],[0.6666666666666666,\"#35b779\"],[0.7777777777777778,\"#6ece58\"],[0.8888888888888888,\"#b5de2b\"],[1.0,\"#fde725\"]],\"type\":\"heatmapgl\"}],\"heatmap\":[{\"colorbar\":{\"outlinewidth\":1,\"tickcolor\":\"rgb(36,36,36)\",\"ticks\":\"outside\"},\"colorscale\":[[0.0,\"#440154\"],[0.1111111111111111,\"#482878\"],[0.2222222222222222,\"#3e4989\"],[0.3333333333333333,\"#31688e\"],[0.4444444444444444,\"#26828e\"],[0.5555555555555556,\"#1f9e89\"],[0.6666666666666666,\"#35b779\"],[0.7777777777777778,\"#6ece58\"],[0.8888888888888888,\"#b5de2b\"],[1.0,\"#fde725\"]],\"type\":\"heatmap\"}],\"histogram2dcontour\":[{\"colorbar\":{\"outlinewidth\":1,\"tickcolor\":\"rgb(36,36,36)\",\"ticks\":\"outside\"},\"colorscale\":[[0.0,\"#440154\"],[0.1111111111111111,\"#482878\"],[0.2222222222222222,\"#3e4989\"],[0.3333333333333333,\"#31688e\"],[0.4444444444444444,\"#26828e\"],[0.5555555555555556,\"#1f9e89\"],[0.6666666666666666,\"#35b779\"],[0.7777777777777778,\"#6ece58\"],[0.8888888888888888,\"#b5de2b\"],[1.0,\"#fde725\"]],\"type\":\"histogram2dcontour\"}],\"histogram2d\":[{\"colorbar\":{\"outlinewidth\":1,\"tickcolor\":\"rgb(36,36,36)\",\"ticks\":\"outside\"},\"colorscale\":[[0.0,\"#440154\"],[0.1111111111111111,\"#482878\"],[0.2222222222222222,\"#3e4989\"],[0.3333333333333333,\"#31688e\"],[0.4444444444444444,\"#26828e\"],[0.5555555555555556,\"#1f9e89\"],[0.6666666666666666,\"#35b779\"],[0.7777777777777778,\"#6ece58\"],[0.8888888888888888,\"#b5de2b\"],[1.0,\"#fde725\"]],\"type\":\"histogram2d\"}],\"histogram\":[{\"marker\":{\"line\":{\"color\":\"white\",\"width\":0.6}},\"type\":\"histogram\"}],\"mesh3d\":[{\"colorbar\":{\"outlinewidth\":1,\"tickcolor\":\"rgb(36,36,36)\",\"ticks\":\"outside\"},\"type\":\"mesh3d\"}],\"parcoords\":[{\"line\":{\"colorbar\":{\"outlinewidth\":1,\"tickcolor\":\"rgb(36,36,36)\",\"ticks\":\"outside\"}},\"type\":\"parcoords\"}],\"pie\":[{\"automargin\":true,\"type\":\"pie\"}],\"scatter3d\":[{\"line\":{\"colorbar\":{\"outlinewidth\":1,\"tickcolor\":\"rgb(36,36,36)\",\"ticks\":\"outside\"}},\"marker\":{\"colorbar\":{\"outlinewidth\":1,\"tickcolor\":\"rgb(36,36,36)\",\"ticks\":\"outside\"}},\"type\":\"scatter3d\"}],\"scattercarpet\":[{\"marker\":{\"colorbar\":{\"outlinewidth\":1,\"tickcolor\":\"rgb(36,36,36)\",\"ticks\":\"outside\"}},\"type\":\"scattercarpet\"}],\"scattergeo\":[{\"marker\":{\"colorbar\":{\"outlinewidth\":1,\"tickcolor\":\"rgb(36,36,36)\",\"ticks\":\"outside\"}},\"type\":\"scattergeo\"}],\"scattergl\":[{\"marker\":{\"colorbar\":{\"outlinewidth\":1,\"tickcolor\":\"rgb(36,36,36)\",\"ticks\":\"outside\"}},\"type\":\"scattergl\"}],\"scattermapbox\":[{\"marker\":{\"colorbar\":{\"outlinewidth\":1,\"tickcolor\":\"rgb(36,36,36)\",\"ticks\":\"outside\"}},\"type\":\"scattermapbox\"}],\"scatterpolargl\":[{\"marker\":{\"colorbar\":{\"outlinewidth\":1,\"tickcolor\":\"rgb(36,36,36)\",\"ticks\":\"outside\"}},\"type\":\"scatterpolargl\"}],\"scatterpolar\":[{\"marker\":{\"colorbar\":{\"outlinewidth\":1,\"tickcolor\":\"rgb(36,36,36)\",\"ticks\":\"outside\"}},\"type\":\"scatterpolar\"}],\"scatter\":[{\"fillpattern\":{\"fillmode\":\"overlay\",\"size\":10,\"solidity\":0.2},\"type\":\"scatter\"}],\"scatterternary\":[{\"marker\":{\"colorbar\":{\"outlinewidth\":1,\"tickcolor\":\"rgb(36,36,36)\",\"ticks\":\"outside\"}},\"type\":\"scatterternary\"}],\"surface\":[{\"colorbar\":{\"outlinewidth\":1,\"tickcolor\":\"rgb(36,36,36)\",\"ticks\":\"outside\"},\"colorscale\":[[0.0,\"#440154\"],[0.1111111111111111,\"#482878\"],[0.2222222222222222,\"#3e4989\"],[0.3333333333333333,\"#31688e\"],[0.4444444444444444,\"#26828e\"],[0.5555555555555556,\"#1f9e89\"],[0.6666666666666666,\"#35b779\"],[0.7777777777777778,\"#6ece58\"],[0.8888888888888888,\"#b5de2b\"],[1.0,\"#fde725\"]],\"type\":\"surface\"}],\"table\":[{\"cells\":{\"fill\":{\"color\":\"rgb(237,237,237)\"},\"line\":{\"color\":\"white\"}},\"header\":{\"fill\":{\"color\":\"rgb(217,217,217)\"},\"line\":{\"color\":\"white\"}},\"type\":\"table\"}]},\"layout\":{\"annotationdefaults\":{\"arrowhead\":0,\"arrowwidth\":1},\"autotypenumbers\":\"strict\",\"coloraxis\":{\"colorbar\":{\"outlinewidth\":1,\"tickcolor\":\"rgb(36,36,36)\",\"ticks\":\"outside\"}},\"colorscale\":{\"diverging\":[[0.0,\"rgb(103,0,31)\"],[0.1,\"rgb(178,24,43)\"],[0.2,\"rgb(214,96,77)\"],[0.3,\"rgb(244,165,130)\"],[0.4,\"rgb(253,219,199)\"],[0.5,\"rgb(247,247,247)\"],[0.6,\"rgb(209,229,240)\"],[0.7,\"rgb(146,197,222)\"],[0.8,\"rgb(67,147,195)\"],[0.9,\"rgb(33,102,172)\"],[1.0,\"rgb(5,48,97)\"]],\"sequential\":[[0.0,\"#440154\"],[0.1111111111111111,\"#482878\"],[0.2222222222222222,\"#3e4989\"],[0.3333333333333333,\"#31688e\"],[0.4444444444444444,\"#26828e\"],[0.5555555555555556,\"#1f9e89\"],[0.6666666666666666,\"#35b779\"],[0.7777777777777778,\"#6ece58\"],[0.8888888888888888,\"#b5de2b\"],[1.0,\"#fde725\"]],\"sequentialminus\":[[0.0,\"#440154\"],[0.1111111111111111,\"#482878\"],[0.2222222222222222,\"#3e4989\"],[0.3333333333333333,\"#31688e\"],[0.4444444444444444,\"#26828e\"],[0.5555555555555556,\"#1f9e89\"],[0.6666666666666666,\"#35b779\"],[0.7777777777777778,\"#6ece58\"],[0.8888888888888888,\"#b5de2b\"],[1.0,\"#fde725\"]]},\"colorway\":[\"#1F77B4\",\"#FF7F0E\",\"#2CA02C\",\"#D62728\",\"#9467BD\",\"#8C564B\",\"#E377C2\",\"#7F7F7F\",\"#BCBD22\",\"#17BECF\"],\"font\":{\"color\":\"rgb(36,36,36)\"},\"geo\":{\"bgcolor\":\"white\",\"lakecolor\":\"white\",\"landcolor\":\"white\",\"showlakes\":true,\"showland\":true,\"subunitcolor\":\"white\"},\"hoverlabel\":{\"align\":\"left\"},\"hovermode\":\"closest\",\"mapbox\":{\"style\":\"light\"},\"paper_bgcolor\":\"white\",\"plot_bgcolor\":\"white\",\"polar\":{\"angularaxis\":{\"gridcolor\":\"rgb(232,232,232)\",\"linecolor\":\"rgb(36,36,36)\",\"showgrid\":false,\"showline\":true,\"ticks\":\"outside\"},\"bgcolor\":\"white\",\"radialaxis\":{\"gridcolor\":\"rgb(232,232,232)\",\"linecolor\":\"rgb(36,36,36)\",\"showgrid\":false,\"showline\":true,\"ticks\":\"outside\"}},\"scene\":{\"xaxis\":{\"backgroundcolor\":\"white\",\"gridcolor\":\"rgb(232,232,232)\",\"gridwidth\":2,\"linecolor\":\"rgb(36,36,36)\",\"showbackground\":true,\"showgrid\":false,\"showline\":true,\"ticks\":\"outside\",\"zeroline\":false,\"zerolinecolor\":\"rgb(36,36,36)\"},\"yaxis\":{\"backgroundcolor\":\"white\",\"gridcolor\":\"rgb(232,232,232)\",\"gridwidth\":2,\"linecolor\":\"rgb(36,36,36)\",\"showbackground\":true,\"showgrid\":false,\"showline\":true,\"ticks\":\"outside\",\"zeroline\":false,\"zerolinecolor\":\"rgb(36,36,36)\"},\"zaxis\":{\"backgroundcolor\":\"white\",\"gridcolor\":\"rgb(232,232,232)\",\"gridwidth\":2,\"linecolor\":\"rgb(36,36,36)\",\"showbackground\":true,\"showgrid\":false,\"showline\":true,\"ticks\":\"outside\",\"zeroline\":false,\"zerolinecolor\":\"rgb(36,36,36)\"}},\"shapedefaults\":{\"fillcolor\":\"black\",\"line\":{\"width\":0},\"opacity\":0.3},\"ternary\":{\"aaxis\":{\"gridcolor\":\"rgb(232,232,232)\",\"linecolor\":\"rgb(36,36,36)\",\"showgrid\":false,\"showline\":true,\"ticks\":\"outside\"},\"baxis\":{\"gridcolor\":\"rgb(232,232,232)\",\"linecolor\":\"rgb(36,36,36)\",\"showgrid\":false,\"showline\":true,\"ticks\":\"outside\"},\"bgcolor\":\"white\",\"caxis\":{\"gridcolor\":\"rgb(232,232,232)\",\"linecolor\":\"rgb(36,36,36)\",\"showgrid\":false,\"showline\":true,\"ticks\":\"outside\"}},\"title\":{\"x\":0.05},\"xaxis\":{\"automargin\":true,\"gridcolor\":\"rgb(232,232,232)\",\"linecolor\":\"rgb(36,36,36)\",\"showgrid\":false,\"showline\":true,\"ticks\":\"outside\",\"title\":{\"standoff\":15},\"zeroline\":false,\"zerolinecolor\":\"rgb(36,36,36)\"},\"yaxis\":{\"automargin\":true,\"gridcolor\":\"rgb(232,232,232)\",\"linecolor\":\"rgb(36,36,36)\",\"showgrid\":false,\"showline\":true,\"ticks\":\"outside\",\"title\":{\"standoff\":15},\"zeroline\":false,\"zerolinecolor\":\"rgb(36,36,36)\"}}},\"xaxis\":{\"anchor\":\"y\",\"domain\":[0.0,1.0],\"title\":{\"text\":\"\"},\"visible\":false,\"range\":[-2.2003312349319457,0.07616771198809147]},\"yaxis\":{\"anchor\":\"x\",\"domain\":[0.0,1.0],\"title\":{\"text\":\"\"},\"visible\":false,\"range\":[9.161378526687622,15.126031017303466]},\"legend\":{\"tracegroupgap\":0,\"itemsizing\":\"constant\"},\"margin\":{\"t\":60},\"title\":{\"font\":{\"size\":22,\"color\":\"Black\"},\"text\":\"\\u003cb\\u003eIntertopic Distance Map\\u003c\\u002fb\\u003e\",\"y\":0.95,\"x\":0.5,\"xanchor\":\"center\",\"yanchor\":\"top\"},\"hoverlabel\":{\"font\":{\"size\":16,\"family\":\"Rockwell\"},\"bgcolor\":\"white\"},\"width\":650,\"height\":650,\"sliders\":[{\"active\":0,\"pad\":{\"t\":50},\"steps\":[{\"args\":[{\"marker.color\":[[\"red\",\"#B0BEC5\",\"#B0BEC5\",\"#B0BEC5\",\"#B0BEC5\",\"#B0BEC5\"]]}],\"label\":\"Topic 0\",\"method\":\"update\"},{\"args\":[{\"marker.color\":[[\"#B0BEC5\",\"red\",\"#B0BEC5\",\"#B0BEC5\",\"#B0BEC5\",\"#B0BEC5\"]]}],\"label\":\"Topic 1\",\"method\":\"update\"},{\"args\":[{\"marker.color\":[[\"#B0BEC5\",\"#B0BEC5\",\"red\",\"#B0BEC5\",\"#B0BEC5\",\"#B0BEC5\"]]}],\"label\":\"Topic 2\",\"method\":\"update\"},{\"args\":[{\"marker.color\":[[\"#B0BEC5\",\"#B0BEC5\",\"#B0BEC5\",\"red\",\"#B0BEC5\",\"#B0BEC5\"]]}],\"label\":\"Topic 3\",\"method\":\"update\"},{\"args\":[{\"marker.color\":[[\"#B0BEC5\",\"#B0BEC5\",\"#B0BEC5\",\"#B0BEC5\",\"red\",\"#B0BEC5\"]]}],\"label\":\"Topic 4\",\"method\":\"update\"},{\"args\":[{\"marker.color\":[[\"#B0BEC5\",\"#B0BEC5\",\"#B0BEC5\",\"#B0BEC5\",\"#B0BEC5\",\"red\"]]}],\"label\":\"Topic 5\",\"method\":\"update\"}]}],\"shapes\":[{\"line\":{\"color\":\"#CFD8DC\",\"width\":2},\"type\":\"line\",\"x0\":-1.0620817614719271,\"x1\":-1.0620817614719271,\"y0\":9.161378526687622,\"y1\":15.126031017303466},{\"line\":{\"color\":\"#9E9E9E\",\"width\":2},\"type\":\"line\",\"x0\":-2.2003312349319457,\"x1\":0.07616771198809147,\"y0\":12.143704771995544,\"y1\":12.143704771995544}],\"annotations\":[{\"showarrow\":false,\"text\":\"D1\",\"x\":-2.2003312349319457,\"y\":12.143704771995544,\"yshift\":10},{\"showarrow\":false,\"text\":\"D2\",\"x\":-1.0620817614719271,\"xshift\":10,\"y\":15.126031017303466}]},                        {\"responsive\": true}                    ).then(function(){\n",
              "                            \n",
              "var gd = document.getElementById('5bec8575-deee-435a-bc94-701023756d53');\n",
              "var x = new MutationObserver(function (mutations, observer) {{\n",
              "        var display = window.getComputedStyle(gd).display;\n",
              "        if (!display || display === 'none') {{\n",
              "            console.log([gd, 'removed!']);\n",
              "            Plotly.purge(gd);\n",
              "            observer.disconnect();\n",
              "        }}\n",
              "}});\n",
              "\n",
              "// Listen for the removal of the full notebook cells\n",
              "var notebookContainer = gd.closest('#notebook-container');\n",
              "if (notebookContainer) {{\n",
              "    x.observe(notebookContainer, {childList: true});\n",
              "}}\n",
              "\n",
              "// Listen for the clearing of the current output cell\n",
              "var outputEl = gd.closest('.output');\n",
              "if (outputEl) {{\n",
              "    x.observe(outputEl, {childList: true});\n",
              "}}\n",
              "\n",
              "                        })                };                            </script>        </div>\n",
              "</body>\n",
              "</html>"
            ]
          },
          "metadata": {}
        },
        {
          "output_type": "display_data",
          "data": {
            "text/html": [
              "<html>\n",
              "<head><meta charset=\"utf-8\" /></head>\n",
              "<body>\n",
              "    <div>            <script src=\"https://cdnjs.cloudflare.com/ajax/libs/mathjax/2.7.5/MathJax.js?config=TeX-AMS-MML_SVG\"></script><script type=\"text/javascript\">if (window.MathJax && window.MathJax.Hub && window.MathJax.Hub.Config) {window.MathJax.Hub.Config({SVG: {font: \"STIX-Web\"}});}</script>                <script type=\"text/javascript\">window.PlotlyConfig = {MathJaxConfig: 'local'};</script>\n",
              "        <script charset=\"utf-8\" src=\"https://cdn.plot.ly/plotly-2.35.2.min.js\"></script>                <div id=\"ea64ab5b-2be2-401f-9bfa-19ade3ff83a8\" class=\"plotly-graph-div\" style=\"height:290px; width:1000px;\"></div>            <script type=\"text/javascript\">                                    window.PLOTLYENV=window.PLOTLYENV || {};                                    if (document.getElementById(\"ea64ab5b-2be2-401f-9bfa-19ade3ff83a8\")) {                    Plotly.newPlot(                        \"ea64ab5b-2be2-401f-9bfa-19ade3ff83a8\",                        [{\"hoverinfo\":\"text\",\"marker\":{\"color\":\"rgb(61,153,112)\"},\"mode\":\"lines\",\"x\":[0.0,0.21906936813670386,0.21906936813670386,0.0],\"xaxis\":\"x\",\"y\":[-25.0,-25.0,-35.0,-35.0],\"yaxis\":\"y\",\"type\":\"scatter\"},{\"hoverinfo\":\"text\",\"marker\":{\"color\":\"rgb(61,153,112)\"},\"mode\":\"lines\",\"x\":[0.0,0.3513527848650517,0.3513527848650517,0.21906936813670386],\"xaxis\":\"x\",\"y\":[-15.0,-15.0,-30.0,-30.0],\"yaxis\":\"y\",\"type\":\"scatter\"},{\"hoverinfo\":\"text\",\"marker\":{\"color\":\"rgb(61,153,112)\"},\"mode\":\"lines\",\"x\":[0.3513527848650517,0.4036909656343374,0.4036909656343374,0.0],\"xaxis\":\"x\",\"y\":[-22.5,-22.5,-45.0,-45.0],\"yaxis\":\"y\",\"type\":\"scatter\"},{\"hoverinfo\":\"text\",\"marker\":{\"color\":\"rgb(61,153,112)\"},\"mode\":\"lines\",\"x\":[0.4036909656343374,0.47600276285880444,0.47600276285880444,0.0],\"xaxis\":\"x\",\"y\":[-33.75,-33.75,-55.0,-55.0],\"yaxis\":\"y\",\"type\":\"scatter\"},{\"hoverinfo\":\"text\",\"marker\":{\"color\":\"rgb(61,153,112)\"},\"mode\":\"lines\",\"x\":[0.0,0.4915459268455539,0.4915459268455539,0.47600276285880444],\"xaxis\":\"x\",\"y\":[-5.0,-5.0,-44.375,-44.375],\"yaxis\":\"y\",\"type\":\"scatter\"}],                        {\"autosize\":false,\"height\":290,\"hovermode\":\"closest\",\"showlegend\":false,\"width\":1000,\"xaxis\":{\"mirror\":\"allticks\",\"rangemode\":\"tozero\",\"showgrid\":false,\"showline\":true,\"showticklabels\":true,\"ticks\":\"outside\",\"type\":\"linear\",\"zeroline\":false},\"yaxis\":{\"mirror\":\"allticks\",\"rangemode\":\"tozero\",\"showgrid\":false,\"showline\":true,\"showticklabels\":true,\"tickmode\":\"array\",\"ticks\":\"outside\",\"ticktext\":[\"5_chinese_hong_kong\",\"4_wine_great_bruschetta\",\"0_tucson_in_is\",\"1_breakfast_and_the\",\"3_tacos_taco_the\",\"2_pizza_crust_the\"],\"tickvals\":[-5.0,-15.0,-25.0,-35.0,-45.0,-55.0],\"type\":\"linear\",\"zeroline\":false,\"range\":[-60.0,0.0]},\"template\":{\"data\":{\"barpolar\":[{\"marker\":{\"line\":{\"color\":\"white\",\"width\":0.5},\"pattern\":{\"fillmode\":\"overlay\",\"size\":10,\"solidity\":0.2}},\"type\":\"barpolar\"}],\"bar\":[{\"error_x\":{\"color\":\"#2a3f5f\"},\"error_y\":{\"color\":\"#2a3f5f\"},\"marker\":{\"line\":{\"color\":\"white\",\"width\":0.5},\"pattern\":{\"fillmode\":\"overlay\",\"size\":10,\"solidity\":0.2}},\"type\":\"bar\"}],\"carpet\":[{\"aaxis\":{\"endlinecolor\":\"#2a3f5f\",\"gridcolor\":\"#C8D4E3\",\"linecolor\":\"#C8D4E3\",\"minorgridcolor\":\"#C8D4E3\",\"startlinecolor\":\"#2a3f5f\"},\"baxis\":{\"endlinecolor\":\"#2a3f5f\",\"gridcolor\":\"#C8D4E3\",\"linecolor\":\"#C8D4E3\",\"minorgridcolor\":\"#C8D4E3\",\"startlinecolor\":\"#2a3f5f\"},\"type\":\"carpet\"}],\"choropleth\":[{\"colorbar\":{\"outlinewidth\":0,\"ticks\":\"\"},\"type\":\"choropleth\"}],\"contourcarpet\":[{\"colorbar\":{\"outlinewidth\":0,\"ticks\":\"\"},\"type\":\"contourcarpet\"}],\"contour\":[{\"colorbar\":{\"outlinewidth\":0,\"ticks\":\"\"},\"colorscale\":[[0.0,\"#0d0887\"],[0.1111111111111111,\"#46039f\"],[0.2222222222222222,\"#7201a8\"],[0.3333333333333333,\"#9c179e\"],[0.4444444444444444,\"#bd3786\"],[0.5555555555555556,\"#d8576b\"],[0.6666666666666666,\"#ed7953\"],[0.7777777777777778,\"#fb9f3a\"],[0.8888888888888888,\"#fdca26\"],[1.0,\"#f0f921\"]],\"type\":\"contour\"}],\"heatmapgl\":[{\"colorbar\":{\"outlinewidth\":0,\"ticks\":\"\"},\"colorscale\":[[0.0,\"#0d0887\"],[0.1111111111111111,\"#46039f\"],[0.2222222222222222,\"#7201a8\"],[0.3333333333333333,\"#9c179e\"],[0.4444444444444444,\"#bd3786\"],[0.5555555555555556,\"#d8576b\"],[0.6666666666666666,\"#ed7953\"],[0.7777777777777778,\"#fb9f3a\"],[0.8888888888888888,\"#fdca26\"],[1.0,\"#f0f921\"]],\"type\":\"heatmapgl\"}],\"heatmap\":[{\"colorbar\":{\"outlinewidth\":0,\"ticks\":\"\"},\"colorscale\":[[0.0,\"#0d0887\"],[0.1111111111111111,\"#46039f\"],[0.2222222222222222,\"#7201a8\"],[0.3333333333333333,\"#9c179e\"],[0.4444444444444444,\"#bd3786\"],[0.5555555555555556,\"#d8576b\"],[0.6666666666666666,\"#ed7953\"],[0.7777777777777778,\"#fb9f3a\"],[0.8888888888888888,\"#fdca26\"],[1.0,\"#f0f921\"]],\"type\":\"heatmap\"}],\"histogram2dcontour\":[{\"colorbar\":{\"outlinewidth\":0,\"ticks\":\"\"},\"colorscale\":[[0.0,\"#0d0887\"],[0.1111111111111111,\"#46039f\"],[0.2222222222222222,\"#7201a8\"],[0.3333333333333333,\"#9c179e\"],[0.4444444444444444,\"#bd3786\"],[0.5555555555555556,\"#d8576b\"],[0.6666666666666666,\"#ed7953\"],[0.7777777777777778,\"#fb9f3a\"],[0.8888888888888888,\"#fdca26\"],[1.0,\"#f0f921\"]],\"type\":\"histogram2dcontour\"}],\"histogram2d\":[{\"colorbar\":{\"outlinewidth\":0,\"ticks\":\"\"},\"colorscale\":[[0.0,\"#0d0887\"],[0.1111111111111111,\"#46039f\"],[0.2222222222222222,\"#7201a8\"],[0.3333333333333333,\"#9c179e\"],[0.4444444444444444,\"#bd3786\"],[0.5555555555555556,\"#d8576b\"],[0.6666666666666666,\"#ed7953\"],[0.7777777777777778,\"#fb9f3a\"],[0.8888888888888888,\"#fdca26\"],[1.0,\"#f0f921\"]],\"type\":\"histogram2d\"}],\"histogram\":[{\"marker\":{\"pattern\":{\"fillmode\":\"overlay\",\"size\":10,\"solidity\":0.2}},\"type\":\"histogram\"}],\"mesh3d\":[{\"colorbar\":{\"outlinewidth\":0,\"ticks\":\"\"},\"type\":\"mesh3d\"}],\"parcoords\":[{\"line\":{\"colorbar\":{\"outlinewidth\":0,\"ticks\":\"\"}},\"type\":\"parcoords\"}],\"pie\":[{\"automargin\":true,\"type\":\"pie\"}],\"scatter3d\":[{\"line\":{\"colorbar\":{\"outlinewidth\":0,\"ticks\":\"\"}},\"marker\":{\"colorbar\":{\"outlinewidth\":0,\"ticks\":\"\"}},\"type\":\"scatter3d\"}],\"scattercarpet\":[{\"marker\":{\"colorbar\":{\"outlinewidth\":0,\"ticks\":\"\"}},\"type\":\"scattercarpet\"}],\"scattergeo\":[{\"marker\":{\"colorbar\":{\"outlinewidth\":0,\"ticks\":\"\"}},\"type\":\"scattergeo\"}],\"scattergl\":[{\"marker\":{\"colorbar\":{\"outlinewidth\":0,\"ticks\":\"\"}},\"type\":\"scattergl\"}],\"scattermapbox\":[{\"marker\":{\"colorbar\":{\"outlinewidth\":0,\"ticks\":\"\"}},\"type\":\"scattermapbox\"}],\"scatterpolargl\":[{\"marker\":{\"colorbar\":{\"outlinewidth\":0,\"ticks\":\"\"}},\"type\":\"scatterpolargl\"}],\"scatterpolar\":[{\"marker\":{\"colorbar\":{\"outlinewidth\":0,\"ticks\":\"\"}},\"type\":\"scatterpolar\"}],\"scatter\":[{\"fillpattern\":{\"fillmode\":\"overlay\",\"size\":10,\"solidity\":0.2},\"type\":\"scatter\"}],\"scatterternary\":[{\"marker\":{\"colorbar\":{\"outlinewidth\":0,\"ticks\":\"\"}},\"type\":\"scatterternary\"}],\"surface\":[{\"colorbar\":{\"outlinewidth\":0,\"ticks\":\"\"},\"colorscale\":[[0.0,\"#0d0887\"],[0.1111111111111111,\"#46039f\"],[0.2222222222222222,\"#7201a8\"],[0.3333333333333333,\"#9c179e\"],[0.4444444444444444,\"#bd3786\"],[0.5555555555555556,\"#d8576b\"],[0.6666666666666666,\"#ed7953\"],[0.7777777777777778,\"#fb9f3a\"],[0.8888888888888888,\"#fdca26\"],[1.0,\"#f0f921\"]],\"type\":\"surface\"}],\"table\":[{\"cells\":{\"fill\":{\"color\":\"#EBF0F8\"},\"line\":{\"color\":\"white\"}},\"header\":{\"fill\":{\"color\":\"#C8D4E3\"},\"line\":{\"color\":\"white\"}},\"type\":\"table\"}]},\"layout\":{\"annotationdefaults\":{\"arrowcolor\":\"#2a3f5f\",\"arrowhead\":0,\"arrowwidth\":1},\"autotypenumbers\":\"strict\",\"coloraxis\":{\"colorbar\":{\"outlinewidth\":0,\"ticks\":\"\"}},\"colorscale\":{\"diverging\":[[0,\"#8e0152\"],[0.1,\"#c51b7d\"],[0.2,\"#de77ae\"],[0.3,\"#f1b6da\"],[0.4,\"#fde0ef\"],[0.5,\"#f7f7f7\"],[0.6,\"#e6f5d0\"],[0.7,\"#b8e186\"],[0.8,\"#7fbc41\"],[0.9,\"#4d9221\"],[1,\"#276419\"]],\"sequential\":[[0.0,\"#0d0887\"],[0.1111111111111111,\"#46039f\"],[0.2222222222222222,\"#7201a8\"],[0.3333333333333333,\"#9c179e\"],[0.4444444444444444,\"#bd3786\"],[0.5555555555555556,\"#d8576b\"],[0.6666666666666666,\"#ed7953\"],[0.7777777777777778,\"#fb9f3a\"],[0.8888888888888888,\"#fdca26\"],[1.0,\"#f0f921\"]],\"sequentialminus\":[[0.0,\"#0d0887\"],[0.1111111111111111,\"#46039f\"],[0.2222222222222222,\"#7201a8\"],[0.3333333333333333,\"#9c179e\"],[0.4444444444444444,\"#bd3786\"],[0.5555555555555556,\"#d8576b\"],[0.6666666666666666,\"#ed7953\"],[0.7777777777777778,\"#fb9f3a\"],[0.8888888888888888,\"#fdca26\"],[1.0,\"#f0f921\"]]},\"colorway\":[\"#636efa\",\"#EF553B\",\"#00cc96\",\"#ab63fa\",\"#FFA15A\",\"#19d3f3\",\"#FF6692\",\"#B6E880\",\"#FF97FF\",\"#FECB52\"],\"font\":{\"color\":\"#2a3f5f\"},\"geo\":{\"bgcolor\":\"white\",\"lakecolor\":\"white\",\"landcolor\":\"white\",\"showlakes\":true,\"showland\":true,\"subunitcolor\":\"#C8D4E3\"},\"hoverlabel\":{\"align\":\"left\"},\"hovermode\":\"closest\",\"mapbox\":{\"style\":\"light\"},\"paper_bgcolor\":\"white\",\"plot_bgcolor\":\"white\",\"polar\":{\"angularaxis\":{\"gridcolor\":\"#EBF0F8\",\"linecolor\":\"#EBF0F8\",\"ticks\":\"\"},\"bgcolor\":\"white\",\"radialaxis\":{\"gridcolor\":\"#EBF0F8\",\"linecolor\":\"#EBF0F8\",\"ticks\":\"\"}},\"scene\":{\"xaxis\":{\"backgroundcolor\":\"white\",\"gridcolor\":\"#DFE8F3\",\"gridwidth\":2,\"linecolor\":\"#EBF0F8\",\"showbackground\":true,\"ticks\":\"\",\"zerolinecolor\":\"#EBF0F8\"},\"yaxis\":{\"backgroundcolor\":\"white\",\"gridcolor\":\"#DFE8F3\",\"gridwidth\":2,\"linecolor\":\"#EBF0F8\",\"showbackground\":true,\"ticks\":\"\",\"zerolinecolor\":\"#EBF0F8\"},\"zaxis\":{\"backgroundcolor\":\"white\",\"gridcolor\":\"#DFE8F3\",\"gridwidth\":2,\"linecolor\":\"#EBF0F8\",\"showbackground\":true,\"ticks\":\"\",\"zerolinecolor\":\"#EBF0F8\"}},\"shapedefaults\":{\"line\":{\"color\":\"#2a3f5f\"}},\"ternary\":{\"aaxis\":{\"gridcolor\":\"#DFE8F3\",\"linecolor\":\"#A2B1C6\",\"ticks\":\"\"},\"baxis\":{\"gridcolor\":\"#DFE8F3\",\"linecolor\":\"#A2B1C6\",\"ticks\":\"\"},\"bgcolor\":\"white\",\"caxis\":{\"gridcolor\":\"#DFE8F3\",\"linecolor\":\"#A2B1C6\",\"ticks\":\"\"}},\"title\":{\"x\":0.05},\"xaxis\":{\"automargin\":true,\"gridcolor\":\"#EBF0F8\",\"linecolor\":\"#EBF0F8\",\"ticks\":\"\",\"title\":{\"standoff\":15},\"zerolinecolor\":\"#EBF0F8\",\"zerolinewidth\":2},\"yaxis\":{\"automargin\":true,\"gridcolor\":\"#EBF0F8\",\"linecolor\":\"#EBF0F8\",\"ticks\":\"\",\"title\":{\"standoff\":15},\"zerolinecolor\":\"#EBF0F8\",\"zerolinewidth\":2}}},\"title\":{\"font\":{\"size\":22,\"color\":\"Black\"},\"text\":\"\\u003cb\\u003eHierarchical Clustering\\u003c\\u002fb\\u003e\",\"x\":0.5,\"xanchor\":\"center\",\"yanchor\":\"top\"},\"hoverlabel\":{\"font\":{\"size\":16,\"family\":\"Rockwell\"},\"bgcolor\":\"white\"},\"plot_bgcolor\":\"#ECEFF1\"},                        {\"responsive\": true}                    ).then(function(){\n",
              "                            \n",
              "var gd = document.getElementById('ea64ab5b-2be2-401f-9bfa-19ade3ff83a8');\n",
              "var x = new MutationObserver(function (mutations, observer) {{\n",
              "        var display = window.getComputedStyle(gd).display;\n",
              "        if (!display || display === 'none') {{\n",
              "            console.log([gd, 'removed!']);\n",
              "            Plotly.purge(gd);\n",
              "            observer.disconnect();\n",
              "        }}\n",
              "}});\n",
              "\n",
              "// Listen for the removal of the full notebook cells\n",
              "var notebookContainer = gd.closest('#notebook-container');\n",
              "if (notebookContainer) {{\n",
              "    x.observe(notebookContainer, {childList: true});\n",
              "}}\n",
              "\n",
              "// Listen for the clearing of the current output cell\n",
              "var outputEl = gd.closest('.output');\n",
              "if (outputEl) {{\n",
              "    x.observe(outputEl, {childList: true});\n",
              "}}\n",
              "\n",
              "                        })                };                            </script>        </div>\n",
              "</body>\n",
              "</html>"
            ]
          },
          "metadata": {}
        },
        {
          "output_type": "display_data",
          "data": {
            "text/html": [
              "<html>\n",
              "<head><meta charset=\"utf-8\" /></head>\n",
              "<body>\n",
              "    <div>            <script src=\"https://cdnjs.cloudflare.com/ajax/libs/mathjax/2.7.5/MathJax.js?config=TeX-AMS-MML_SVG\"></script><script type=\"text/javascript\">if (window.MathJax && window.MathJax.Hub && window.MathJax.Hub.Config) {window.MathJax.Hub.Config({SVG: {font: \"STIX-Web\"}});}</script>                <script type=\"text/javascript\">window.PlotlyConfig = {MathJaxConfig: 'local'};</script>\n",
              "        <script charset=\"utf-8\" src=\"https://cdn.plot.ly/plotly-2.35.2.min.js\"></script>                <div id=\"14512b30-e5a5-4c1b-a6fa-cecd67923f15\" class=\"plotly-graph-div\" style=\"height:600px; width:800px;\"></div>            <script type=\"text/javascript\">                                    window.PLOTLYENV=window.PLOTLYENV || {};                                    if (document.getElementById(\"14512b30-e5a5-4c1b-a6fa-cecd67923f15\")) {                    Plotly.newPlot(                        \"14512b30-e5a5-4c1b-a6fa-cecd67923f15\",                        [{\"marker\":{\"color\":\"#C8D2D7\",\"line\":{\"color\":\"#6E8484\",\"width\":1}},\"orientation\":\"h\",\"x\":[0.18154384771140003,0.025328137223627523,0.01903815000169441,0.019310231508100215,0.019982990329899617,0.021330707165425067,0.022585464827535342,0.02618468605392129,0.03202476265544714,0.015895316684881654,0.023477450632023538,0.022871417259967886,0.019777176099913356,0.016238780712628686,0.02683507490237009,0.015078804912299367,0.018025244860078577,0.01869197629227612,0.020763100023522767,0.022575703787994072,0.03804718012325656,0.016748096409889536,0.0194145150938417,0.025170903045439615,0.016110493422366333,0.015353244207128709],\"y\":[\"\\u003cb\\u003eTopic 0\\u003c\\u002fb\\u003e: tucson_in_is_the_and\",\"\\u003cb\\u003eTopic 1\\u003c\\u002fb\\u003e: breakfast_and_the_toast_...\",\"\\u003cb\\u003eTopic 3\\u003c\\u002fb\\u003e: tacos_taco_the_asada_and\",\"\\u003cb\\u003eTopic 4\\u003c\\u002fb\\u003e: wine_great_bruschetta_an...\",\"\\u003cb\\u003eTopic 5\\u003c\\u002fb\\u003e: chinese_hong_kong_noodle...\",\"\\u003cb\\u003eTopic 9\\u003c\\u002fb\\u003e: sonoran_dog_dogs_hot_tac...\",\"\\u003cb\\u003eTopic 11\\u003c\\u002fb\\u003e: postino_wine_bruschetta...\",\"\\u003cb\\u003eTopic 13\\u003c\\u002fb\\u003e: the_and_salsa_was_marga...\",\"\\u003cb\\u003eTopic 15\\u003c\\u002fb\\u003e: mexican_food_is_good_yo...\",\"\\u003cb\\u003eTopic 18\\u003c\\u002fb\\u003e: place_great_love_food_t...\",\"\\u003cb\\u003eTopic 19\\u003c\\u002fb\\u003e: steak_charro_was_rey_de...\",\"\\u003cb\\u003eTopic 21\\u003c\\u002fb\\u003e: greek_gyro_pita_the_was\",\"\\u003cb\\u003eTopic 25\\u003c\\u002fb\\u003e: tea_boba_milk_chatime_p...\",\"\\u003cb\\u003eTopic 26\\u003c\\u002fb\\u003e: cake_bakehouse_village_...\",\"\\u003cb\\u003eTopic 27\\u003c\\u002fb\\u003e: burritos_burrito_choriz...\",\"\\u003cb\\u003eTopic 28\\u003c\\u002fb\\u003e: burger_fries_burgers_th...\",\"\\u003cb\\u003eTopic 30\\u003c\\u002fb\\u003e: coffee_beans_shop_brew_...\",\"\\u003cb\\u003eTopic 37\\u003c\\u002fb\\u003e: donut_donuts_king_sweet...\",\"\\u003cb\\u003eTopic 38\\u003c\\u002fb\\u003e: brisket_bbq_ribs_pulled...\",\"\\u003cb\\u003eTopic 39\\u003c\\u002fb\\u003e: prob_dinner_and_the_was\",\"\\u003cb\\u003eTopic 41\\u003c\\u002fb\\u003e: barrio_brewing_beer_uof...\",\"\\u003cb\\u003eTopic 42\\u003c\\u002fb\\u003e: chicken_rice_naan_masal...\",\"\\u003cb\\u003eTopic 44\\u003c\\u002fb\\u003e: mongolian_beef_time_goo...\",\"\\u003cb\\u003eTopic 45\\u003c\\u002fb\\u003e: carne_asada_best_tacos_...\",\"\\u003cb\\u003eTopic 46\\u003c\\u002fb\\u003e: dutch_bros_coffee_broth...\",\"\\u003cb\\u003eTopic 47\\u003c\\u002fb\\u003e: waffle_house_waffles_ha...\"],\"type\":\"bar\"}],                        {\"template\":{\"data\":{\"barpolar\":[{\"marker\":{\"line\":{\"color\":\"white\",\"width\":0.5},\"pattern\":{\"fillmode\":\"overlay\",\"size\":10,\"solidity\":0.2}},\"type\":\"barpolar\"}],\"bar\":[{\"error_x\":{\"color\":\"rgb(36,36,36)\"},\"error_y\":{\"color\":\"rgb(36,36,36)\"},\"marker\":{\"line\":{\"color\":\"white\",\"width\":0.5},\"pattern\":{\"fillmode\":\"overlay\",\"size\":10,\"solidity\":0.2}},\"type\":\"bar\"}],\"carpet\":[{\"aaxis\":{\"endlinecolor\":\"rgb(36,36,36)\",\"gridcolor\":\"white\",\"linecolor\":\"white\",\"minorgridcolor\":\"white\",\"startlinecolor\":\"rgb(36,36,36)\"},\"baxis\":{\"endlinecolor\":\"rgb(36,36,36)\",\"gridcolor\":\"white\",\"linecolor\":\"white\",\"minorgridcolor\":\"white\",\"startlinecolor\":\"rgb(36,36,36)\"},\"type\":\"carpet\"}],\"choropleth\":[{\"colorbar\":{\"outlinewidth\":1,\"tickcolor\":\"rgb(36,36,36)\",\"ticks\":\"outside\"},\"type\":\"choropleth\"}],\"contourcarpet\":[{\"colorbar\":{\"outlinewidth\":1,\"tickcolor\":\"rgb(36,36,36)\",\"ticks\":\"outside\"},\"type\":\"contourcarpet\"}],\"contour\":[{\"colorbar\":{\"outlinewidth\":1,\"tickcolor\":\"rgb(36,36,36)\",\"ticks\":\"outside\"},\"colorscale\":[[0.0,\"#440154\"],[0.1111111111111111,\"#482878\"],[0.2222222222222222,\"#3e4989\"],[0.3333333333333333,\"#31688e\"],[0.4444444444444444,\"#26828e\"],[0.5555555555555556,\"#1f9e89\"],[0.6666666666666666,\"#35b779\"],[0.7777777777777778,\"#6ece58\"],[0.8888888888888888,\"#b5de2b\"],[1.0,\"#fde725\"]],\"type\":\"contour\"}],\"heatmapgl\":[{\"colorbar\":{\"outlinewidth\":1,\"tickcolor\":\"rgb(36,36,36)\",\"ticks\":\"outside\"},\"colorscale\":[[0.0,\"#440154\"],[0.1111111111111111,\"#482878\"],[0.2222222222222222,\"#3e4989\"],[0.3333333333333333,\"#31688e\"],[0.4444444444444444,\"#26828e\"],[0.5555555555555556,\"#1f9e89\"],[0.6666666666666666,\"#35b779\"],[0.7777777777777778,\"#6ece58\"],[0.8888888888888888,\"#b5de2b\"],[1.0,\"#fde725\"]],\"type\":\"heatmapgl\"}],\"heatmap\":[{\"colorbar\":{\"outlinewidth\":1,\"tickcolor\":\"rgb(36,36,36)\",\"ticks\":\"outside\"},\"colorscale\":[[0.0,\"#440154\"],[0.1111111111111111,\"#482878\"],[0.2222222222222222,\"#3e4989\"],[0.3333333333333333,\"#31688e\"],[0.4444444444444444,\"#26828e\"],[0.5555555555555556,\"#1f9e89\"],[0.6666666666666666,\"#35b779\"],[0.7777777777777778,\"#6ece58\"],[0.8888888888888888,\"#b5de2b\"],[1.0,\"#fde725\"]],\"type\":\"heatmap\"}],\"histogram2dcontour\":[{\"colorbar\":{\"outlinewidth\":1,\"tickcolor\":\"rgb(36,36,36)\",\"ticks\":\"outside\"},\"colorscale\":[[0.0,\"#440154\"],[0.1111111111111111,\"#482878\"],[0.2222222222222222,\"#3e4989\"],[0.3333333333333333,\"#31688e\"],[0.4444444444444444,\"#26828e\"],[0.5555555555555556,\"#1f9e89\"],[0.6666666666666666,\"#35b779\"],[0.7777777777777778,\"#6ece58\"],[0.8888888888888888,\"#b5de2b\"],[1.0,\"#fde725\"]],\"type\":\"histogram2dcontour\"}],\"histogram2d\":[{\"colorbar\":{\"outlinewidth\":1,\"tickcolor\":\"rgb(36,36,36)\",\"ticks\":\"outside\"},\"colorscale\":[[0.0,\"#440154\"],[0.1111111111111111,\"#482878\"],[0.2222222222222222,\"#3e4989\"],[0.3333333333333333,\"#31688e\"],[0.4444444444444444,\"#26828e\"],[0.5555555555555556,\"#1f9e89\"],[0.6666666666666666,\"#35b779\"],[0.7777777777777778,\"#6ece58\"],[0.8888888888888888,\"#b5de2b\"],[1.0,\"#fde725\"]],\"type\":\"histogram2d\"}],\"histogram\":[{\"marker\":{\"line\":{\"color\":\"white\",\"width\":0.6}},\"type\":\"histogram\"}],\"mesh3d\":[{\"colorbar\":{\"outlinewidth\":1,\"tickcolor\":\"rgb(36,36,36)\",\"ticks\":\"outside\"},\"type\":\"mesh3d\"}],\"parcoords\":[{\"line\":{\"colorbar\":{\"outlinewidth\":1,\"tickcolor\":\"rgb(36,36,36)\",\"ticks\":\"outside\"}},\"type\":\"parcoords\"}],\"pie\":[{\"automargin\":true,\"type\":\"pie\"}],\"scatter3d\":[{\"line\":{\"colorbar\":{\"outlinewidth\":1,\"tickcolor\":\"rgb(36,36,36)\",\"ticks\":\"outside\"}},\"marker\":{\"colorbar\":{\"outlinewidth\":1,\"tickcolor\":\"rgb(36,36,36)\",\"ticks\":\"outside\"}},\"type\":\"scatter3d\"}],\"scattercarpet\":[{\"marker\":{\"colorbar\":{\"outlinewidth\":1,\"tickcolor\":\"rgb(36,36,36)\",\"ticks\":\"outside\"}},\"type\":\"scattercarpet\"}],\"scattergeo\":[{\"marker\":{\"colorbar\":{\"outlinewidth\":1,\"tickcolor\":\"rgb(36,36,36)\",\"ticks\":\"outside\"}},\"type\":\"scattergeo\"}],\"scattergl\":[{\"marker\":{\"colorbar\":{\"outlinewidth\":1,\"tickcolor\":\"rgb(36,36,36)\",\"ticks\":\"outside\"}},\"type\":\"scattergl\"}],\"scattermapbox\":[{\"marker\":{\"colorbar\":{\"outlinewidth\":1,\"tickcolor\":\"rgb(36,36,36)\",\"ticks\":\"outside\"}},\"type\":\"scattermapbox\"}],\"scatterpolargl\":[{\"marker\":{\"colorbar\":{\"outlinewidth\":1,\"tickcolor\":\"rgb(36,36,36)\",\"ticks\":\"outside\"}},\"type\":\"scatterpolargl\"}],\"scatterpolar\":[{\"marker\":{\"colorbar\":{\"outlinewidth\":1,\"tickcolor\":\"rgb(36,36,36)\",\"ticks\":\"outside\"}},\"type\":\"scatterpolar\"}],\"scatter\":[{\"fillpattern\":{\"fillmode\":\"overlay\",\"size\":10,\"solidity\":0.2},\"type\":\"scatter\"}],\"scatterternary\":[{\"marker\":{\"colorbar\":{\"outlinewidth\":1,\"tickcolor\":\"rgb(36,36,36)\",\"ticks\":\"outside\"}},\"type\":\"scatterternary\"}],\"surface\":[{\"colorbar\":{\"outlinewidth\":1,\"tickcolor\":\"rgb(36,36,36)\",\"ticks\":\"outside\"},\"colorscale\":[[0.0,\"#440154\"],[0.1111111111111111,\"#482878\"],[0.2222222222222222,\"#3e4989\"],[0.3333333333333333,\"#31688e\"],[0.4444444444444444,\"#26828e\"],[0.5555555555555556,\"#1f9e89\"],[0.6666666666666666,\"#35b779\"],[0.7777777777777778,\"#6ece58\"],[0.8888888888888888,\"#b5de2b\"],[1.0,\"#fde725\"]],\"type\":\"surface\"}],\"table\":[{\"cells\":{\"fill\":{\"color\":\"rgb(237,237,237)\"},\"line\":{\"color\":\"white\"}},\"header\":{\"fill\":{\"color\":\"rgb(217,217,217)\"},\"line\":{\"color\":\"white\"}},\"type\":\"table\"}]},\"layout\":{\"annotationdefaults\":{\"arrowhead\":0,\"arrowwidth\":1},\"autotypenumbers\":\"strict\",\"coloraxis\":{\"colorbar\":{\"outlinewidth\":1,\"tickcolor\":\"rgb(36,36,36)\",\"ticks\":\"outside\"}},\"colorscale\":{\"diverging\":[[0.0,\"rgb(103,0,31)\"],[0.1,\"rgb(178,24,43)\"],[0.2,\"rgb(214,96,77)\"],[0.3,\"rgb(244,165,130)\"],[0.4,\"rgb(253,219,199)\"],[0.5,\"rgb(247,247,247)\"],[0.6,\"rgb(209,229,240)\"],[0.7,\"rgb(146,197,222)\"],[0.8,\"rgb(67,147,195)\"],[0.9,\"rgb(33,102,172)\"],[1.0,\"rgb(5,48,97)\"]],\"sequential\":[[0.0,\"#440154\"],[0.1111111111111111,\"#482878\"],[0.2222222222222222,\"#3e4989\"],[0.3333333333333333,\"#31688e\"],[0.4444444444444444,\"#26828e\"],[0.5555555555555556,\"#1f9e89\"],[0.6666666666666666,\"#35b779\"],[0.7777777777777778,\"#6ece58\"],[0.8888888888888888,\"#b5de2b\"],[1.0,\"#fde725\"]],\"sequentialminus\":[[0.0,\"#440154\"],[0.1111111111111111,\"#482878\"],[0.2222222222222222,\"#3e4989\"],[0.3333333333333333,\"#31688e\"],[0.4444444444444444,\"#26828e\"],[0.5555555555555556,\"#1f9e89\"],[0.6666666666666666,\"#35b779\"],[0.7777777777777778,\"#6ece58\"],[0.8888888888888888,\"#b5de2b\"],[1.0,\"#fde725\"]]},\"colorway\":[\"#1F77B4\",\"#FF7F0E\",\"#2CA02C\",\"#D62728\",\"#9467BD\",\"#8C564B\",\"#E377C2\",\"#7F7F7F\",\"#BCBD22\",\"#17BECF\"],\"font\":{\"color\":\"rgb(36,36,36)\"},\"geo\":{\"bgcolor\":\"white\",\"lakecolor\":\"white\",\"landcolor\":\"white\",\"showlakes\":true,\"showland\":true,\"subunitcolor\":\"white\"},\"hoverlabel\":{\"align\":\"left\"},\"hovermode\":\"closest\",\"mapbox\":{\"style\":\"light\"},\"paper_bgcolor\":\"white\",\"plot_bgcolor\":\"white\",\"polar\":{\"angularaxis\":{\"gridcolor\":\"rgb(232,232,232)\",\"linecolor\":\"rgb(36,36,36)\",\"showgrid\":false,\"showline\":true,\"ticks\":\"outside\"},\"bgcolor\":\"white\",\"radialaxis\":{\"gridcolor\":\"rgb(232,232,232)\",\"linecolor\":\"rgb(36,36,36)\",\"showgrid\":false,\"showline\":true,\"ticks\":\"outside\"}},\"scene\":{\"xaxis\":{\"backgroundcolor\":\"white\",\"gridcolor\":\"rgb(232,232,232)\",\"gridwidth\":2,\"linecolor\":\"rgb(36,36,36)\",\"showbackground\":true,\"showgrid\":false,\"showline\":true,\"ticks\":\"outside\",\"zeroline\":false,\"zerolinecolor\":\"rgb(36,36,36)\"},\"yaxis\":{\"backgroundcolor\":\"white\",\"gridcolor\":\"rgb(232,232,232)\",\"gridwidth\":2,\"linecolor\":\"rgb(36,36,36)\",\"showbackground\":true,\"showgrid\":false,\"showline\":true,\"ticks\":\"outside\",\"zeroline\":false,\"zerolinecolor\":\"rgb(36,36,36)\"},\"zaxis\":{\"backgroundcolor\":\"white\",\"gridcolor\":\"rgb(232,232,232)\",\"gridwidth\":2,\"linecolor\":\"rgb(36,36,36)\",\"showbackground\":true,\"showgrid\":false,\"showline\":true,\"ticks\":\"outside\",\"zeroline\":false,\"zerolinecolor\":\"rgb(36,36,36)\"}},\"shapedefaults\":{\"fillcolor\":\"black\",\"line\":{\"width\":0},\"opacity\":0.3},\"ternary\":{\"aaxis\":{\"gridcolor\":\"rgb(232,232,232)\",\"linecolor\":\"rgb(36,36,36)\",\"showgrid\":false,\"showline\":true,\"ticks\":\"outside\"},\"baxis\":{\"gridcolor\":\"rgb(232,232,232)\",\"linecolor\":\"rgb(36,36,36)\",\"showgrid\":false,\"showline\":true,\"ticks\":\"outside\"},\"bgcolor\":\"white\",\"caxis\":{\"gridcolor\":\"rgb(232,232,232)\",\"linecolor\":\"rgb(36,36,36)\",\"showgrid\":false,\"showline\":true,\"ticks\":\"outside\"}},\"title\":{\"x\":0.05},\"xaxis\":{\"automargin\":true,\"gridcolor\":\"rgb(232,232,232)\",\"linecolor\":\"rgb(36,36,36)\",\"showgrid\":false,\"showline\":true,\"ticks\":\"outside\",\"title\":{\"standoff\":15},\"zeroline\":false,\"zerolinecolor\":\"rgb(36,36,36)\"},\"yaxis\":{\"automargin\":true,\"gridcolor\":\"rgb(232,232,232)\",\"linecolor\":\"rgb(36,36,36)\",\"showgrid\":false,\"showline\":true,\"ticks\":\"outside\",\"title\":{\"standoff\":15},\"zeroline\":false,\"zerolinecolor\":\"rgb(36,36,36)\"}}},\"title\":{\"font\":{\"size\":22,\"color\":\"Black\"},\"text\":\"\\u003cb\\u003eTopic Probability Distribution\\u003c\\u002fb\\u003e\",\"y\":0.95,\"x\":0.5,\"xanchor\":\"center\",\"yanchor\":\"top\"},\"hoverlabel\":{\"font\":{\"size\":16,\"family\":\"Rockwell\"},\"bgcolor\":\"white\"},\"xaxis\":{\"title\":{\"text\":\"Probability\"}},\"width\":800,\"height\":600},                        {\"responsive\": true}                    ).then(function(){\n",
              "                            \n",
              "var gd = document.getElementById('14512b30-e5a5-4c1b-a6fa-cecd67923f15');\n",
              "var x = new MutationObserver(function (mutations, observer) {{\n",
              "        var display = window.getComputedStyle(gd).display;\n",
              "        if (!display || display === 'none') {{\n",
              "            console.log([gd, 'removed!']);\n",
              "            Plotly.purge(gd);\n",
              "            observer.disconnect();\n",
              "        }}\n",
              "}});\n",
              "\n",
              "// Listen for the removal of the full notebook cells\n",
              "var notebookContainer = gd.closest('#notebook-container');\n",
              "if (notebookContainer) {{\n",
              "    x.observe(notebookContainer, {childList: true});\n",
              "}}\n",
              "\n",
              "// Listen for the clearing of the current output cell\n",
              "var outputEl = gd.closest('.output');\n",
              "if (outputEl) {{\n",
              "    x.observe(outputEl, {childList: true});\n",
              "}}\n",
              "\n",
              "                        })                };                            </script>        </div>\n",
              "</body>\n",
              "</html>"
            ]
          },
          "metadata": {}
        }
      ]
    },
    {
      "cell_type": "markdown",
      "source": [
        "Markdown Cell 8: Comment on Topic Relationships"
      ],
      "metadata": {
        "id": "QAlmeXh8HoEv"
      }
    },
    {
      "cell_type": "markdown",
      "source": [
        "**Comments on Topic Relationships:**\n",
        "\n",
        "From the visualizations (the intertopic distance map, the topic hierarchy, and the single-document probability distribution), we can draw the following insights:\n",
        "\n",
        "1. **Intertopic Distance Map**  \n",
        "   The map shows that many of the extracted topics are relatively well-separated, indicating that each topic captures a distinct theme in the reviews (e.g., breakfast items, tacos, waffles, local Tucson references). Topics that appear closer on the map may share similar keywords or contextual overlap.\n",
        "\n",
        "2. **Topic Hierarchy**  \n",
        "   The hierarchical view provides a more granular look at how some topics may be grouped under broader themes. For instance, multiple topics could be related to specific types of food (like tacos, waffles, or breakfast items) but still differ in the exact words or context used.\n",
        "\n",
        "3. **Topic Probability Distribution**  \n",
        "   By examining the probability distribution for a single document, we see that it can touch on multiple topics but predominantly aligns with one or two key themes. This allows us to pinpoint what aspect of the restaurant experience the review is most focused on—such as a particular dish, location, or overall dining experience.\n",
        "\n",
        "Overall, these relationships make sense given the variety of content that can appear in restaurant reviews. Different customers will emphasize different elements (e.g., location, food quality, service), so a well-defined set of distinct topics is expected. The hierarchy and distance map further clarify how these topics relate to each other, while the single-document probability distribution highlights the nuanced ways a single review can reference multiple themes. This information can guide restaurant owners or analysts in tailoring improvements or marketing strategies around the most prevalent or closely related topics.\n"
      ],
      "metadata": {
        "id": "6Q2HRjNOBcoh"
      }
    },
    {
      "cell_type": "markdown",
      "source": [
        "Code Cell 9: Visualize Topic Frequencies Over Time (Monthly)"
      ],
      "metadata": {
        "id": "HJIsjDZ5BfOz"
      }
    },
    {
      "cell_type": "code",
      "source": [
        "# Code Cell 9: Visualize topic frequencies over each month (from 2020/1 to 2021/12) for the top 6 topics.\n",
        "# Convert the 'date' column to datetime format.\n",
        "df['date'] = pd.to_datetime(df['date'], errors='coerce')\n",
        "\n",
        "# Filter the data between January 2020 and December 2021.\n",
        "df_filtered = df[(df['date'] >= '2020-01-01') & (df['date'] <= '2021-12-31')].copy()\n",
        "\n",
        "# Get reviews from the filtered data using the 'text' column.\n",
        "filtered_reviews = df_filtered['text'].tolist()\n",
        "\n",
        "# Compute embeddings for the filtered reviews using the same SentenceTransformer model.\n",
        "filtered_embeddings = model.encode(filtered_reviews, show_progress_bar=True)\n",
        "\n",
        "# Use the pre-computed embeddings for transformation.\n",
        "filtered_topics, _ = topic_model.transform(filtered_reviews, embeddings=filtered_embeddings)\n",
        "\n",
        "# Save the topic results back into the DataFrame and create a Month column.\n",
        "df_filtered['Topic'] = filtered_topics\n",
        "df_filtered['Month'] = df_filtered['date'].dt.to_period('M').astype(str)\n",
        "\n",
        "# Calculate monthly frequencies for the top 6 topics.\n",
        "top6_topic_ids = top6_topics['Topic'].tolist()\n",
        "monthly_topic_counts = df_filtered[df_filtered['Topic'].isin(top6_topic_ids)]\\\n",
        "                        .groupby(['Month', 'Topic']).size().reset_index(name='Count')\n",
        "print(\"Monthly topic frequencies for top 6 topics (sample):\")\n",
        "print(monthly_topic_counts.head(10))\n",
        "\n",
        "# Pivot the data for visualization.\n",
        "pivot_df = monthly_topic_counts.pivot(index='Month', columns='Topic', values='Count').fillna(0)\n",
        "pivot_df = pivot_df.sort_index()\n",
        "\n",
        "# Plot a bar chart showing the frequency of each topic per month.\n",
        "pivot_df.plot(kind='bar', figsize=(15,7))\n",
        "plt.title(\"Monthly Topic Frequencies (2020/1 - 2021/12)\")\n",
        "plt.xlabel(\"Month\")\n",
        "plt.ylabel(\"Frequency\")\n",
        "plt.legend(title=\"Topic\")\n",
        "plt.show()\n"
      ],
      "metadata": {
        "colab": {
          "base_uri": "https://localhost:8080/",
          "height": 1000,
          "referenced_widgets": [
            "bba12a36530543139067f9dd7d301c8b",
            "fe5e44934e3e4059acf989e8ac410134",
            "20e562440d9f40739004f7afc828e7a2",
            "6b7a989d985b488f86f9fcf2928a9056",
            "d93f19e9bd2a40abb1913afbfbea05e1",
            "7b2b290a2a0948839826de3d0d62d640",
            "6d77cbbcfaa54dd09a24bef7daddb778",
            "3231519664054981a4318a8b9bef5509",
            "26699f82d2bb4804a8b1ea898c5a82e3",
            "adaa84e4f8234127bcca66e4db28c03c",
            "f8823acd2e154a0ab7612f7117f95c34"
          ]
        },
        "id": "yUGsG_HhBiX9",
        "outputId": "fd922399-af28-4798-fc44-9d4b9a21a04f"
      },
      "execution_count": null,
      "outputs": [
        {
          "output_type": "display_data",
          "data": {
            "text/plain": [
              "Batches:   0%|          | 0/153 [00:00<?, ?it/s]"
            ],
            "application/vnd.jupyter.widget-view+json": {
              "version_major": 2,
              "version_minor": 0,
              "model_id": "bba12a36530543139067f9dd7d301c8b"
            }
          },
          "metadata": {}
        },
        {
          "output_type": "stream",
          "name": "stderr",
          "text": [
            "2025-02-28 01:03:24,103 - BERTopic - Dimensionality - Reducing dimensionality of input embeddings.\n",
            "2025-02-28 01:03:43,944 - BERTopic - Dimensionality - Completed ✓\n",
            "2025-02-28 01:03:43,947 - BERTopic - Clustering - Approximating new points with `hdbscan_model`\n",
            "2025-02-28 01:03:44,225 - BERTopic - Probabilities - Start calculation of probabilities with HDBSCAN\n",
            "2025-02-28 01:03:45,485 - BERTopic - Probabilities - Completed ✓\n",
            "2025-02-28 01:03:45,488 - BERTopic - Cluster - Completed ✓\n"
          ]
        },
        {
          "output_type": "stream",
          "name": "stdout",
          "text": [
            "Monthly topic frequencies for top 6 topics (sample):\n",
            "     Month  Topic  Count\n",
            "0  2020-01      0     24\n",
            "1  2020-01      1     14\n",
            "2  2020-01      2      9\n",
            "3  2020-01      3      6\n",
            "4  2020-01      4      6\n",
            "5  2020-01      5      5\n",
            "6  2020-02      0     37\n",
            "7  2020-02      1     18\n",
            "8  2020-02      2     14\n",
            "9  2020-02      3      5\n"
          ]
        },
        {
          "output_type": "display_data",
          "data": {
            "text/plain": [
              "<Figure size 1500x700 with 1 Axes>"
            ],
            "image/png": "[encoded data removed]"
          },
          "metadata": {}
        }
      ]
    },
    {
      "cell_type": "markdown",
      "source": [
        "Markdown Cell 10: Comment on Temporal Trends and Business Insights\n",
        "\n",
        "\n",
        "\n"
      ],
      "metadata": {
        "id": "cl40kUmXFSij"
      }
    },
    {
      "cell_type": "markdown",
      "source": [
        "**Comments on Temporal Trends and Business Insights (Markdown 10):**\n",
        "\n",
        "From the above chart depicting monthly topic frequencies between January 2020 and December 2021, several observations can be made:\n",
        "\n",
        "1. **Fluctuations in Topic Popularity:**  \n",
        "   Each topic shows varying levels of activity over time, indicating that certain themes resonate more strongly with customers in specific months. This could be related to seasonality (e.g., colder weather affecting dining habits) or local events that drive interest in particular dishes or experiences.\n",
        "\n",
        "2. **Potential Impact of External Factors:**  \n",
        "   Notably, there may be spikes or dips that align with external circumstances (e.g., COVID-19 restrictions, holiday seasons, or special promotions). For instance, a topic focusing on takeout or delivery might peak during months when dine-in options were limited.\n",
        "\n",
        "3. **Seasonal Trends and Promotions:**  \n",
        "   Restaurant owners can look for patterns—such as higher frequencies of a topic related to breakfast items during winter months or a surge in reviews mentioning specific cuisines around certain holidays. Recognizing these trends can help businesses tailor their menus or promotions to match customer preferences at different times of the year.\n",
        "\n",
        "4. **Strategic Planning:**  \n",
        "   By pinpointing months when a particular topic (e.g., food quality, service, location) becomes more prevalent, restaurants can proactively address any emerging issues or double down on successful offerings. This could mean launching seasonal dishes, adjusting staff training, or refining marketing efforts in response to the observed feedback patterns.\n",
        "\n",
        "Overall, the monthly distribution of topics provides actionable insights into how customer interests and concerns shift over time, enabling restaurant management to make data-driven decisions that align with evolving consumer behavior.\n"
      ],
      "metadata": {
        "id": "B-zFHT0WFWZp"
      }
    },
    {
      "cell_type": "markdown",
      "source": [
        "Code Cell 11: Visualize Topic Frequencies for 1-Star and 5-Star Reviews"
      ],
      "metadata": {
        "id": "oh9JY4gLFaky"
      }
    },
    {
      "cell_type": "code",
      "source": [
        "# Code Cell 11: Visualize topic frequencies for 1-star and 5-star review classes for the top 6 topics.\n",
        "# Filter 1-star and 5-star reviews (assuming there is a 'stars' column).\n",
        "one_star_df = df[df['stars'] == 1].copy()\n",
        "five_star_df = df[df['stars'] == 5].copy()\n",
        "\n",
        "# Compute embeddings for 1-star reviews using the 'text' column.\n",
        "one_star_reviews = one_star_df['text'].tolist()\n",
        "one_star_embeddings = model.encode(one_star_reviews, show_progress_bar=True)\n",
        "one_star_topics, _ = topic_model.transform(one_star_reviews, embeddings=one_star_embeddings)\n",
        "\n",
        "# Compute embeddings for 5-star reviews using the 'text' column.\n",
        "five_star_reviews = five_star_df['text'].tolist()\n",
        "five_star_embeddings = model.encode(five_star_reviews, show_progress_bar=True)\n",
        "five_star_topics, _ = topic_model.transform(five_star_reviews, embeddings=five_star_embeddings)\n",
        "\n",
        "# Calculate counts for the top 6 topics in 1-star and 5-star reviews.\n",
        "top6_topic_ids = top6_topics['Topic'].tolist()\n",
        "one_star_counts = {topic: list(one_star_topics).count(topic) for topic in top6_topic_ids}\n",
        "five_star_counts = {topic: list(five_star_topics).count(topic) for topic in top6_topic_ids}\n",
        "\n",
        "print(\"1-Star Reviews Topic Counts:\")\n",
        "print(one_star_counts)\n",
        "print(\"\\n5-Star Reviews Topic Counts:\")\n",
        "print(five_star_counts)\n",
        "\n",
        "# Prepare a DataFrame for grouped bar plot visualization.\n",
        "freq_df = pd.DataFrame({\n",
        "    'Topic': top6_topic_ids,\n",
        "    '1-Star': [one_star_counts[t] for t in top6_topic_ids],\n",
        "    '5-Star': [five_star_counts[t] for t in top6_topic_ids]\n",
        "})\n",
        "\n",
        "# Convert the DataFrame to long format.\n",
        "freq_df_melted = freq_df.melt(id_vars='Topic', var_name='Rating', value_name='Count')\n",
        "plt.figure(figsize=(10,6))\n",
        "sns.barplot(x='Topic', y='Count', hue='Rating', data=freq_df_melted)\n",
        "plt.title(\"Topic Frequencies for 1-Star and 5-Star Reviews\")\n",
        "plt.xlabel(\"Topic\")\n",
        "plt.ylabel(\"Frequency\")\n",
        "plt.show()\n"
      ],
      "metadata": {
        "colab": {
          "base_uri": "https://localhost:8080/",
          "height": 923,
          "referenced_widgets": [
            "31319a6d717a412682eea307f95383e1",
            "b5098373c1b14b88b4c6438410f89913",
            "49dd17b5c1fb4d4384c05bb5d5a67c25",
            "f78e34d2cb634cad920bbf05c6149dfb",
            "bf560d04794848e6bc066d3622dddeeb",
            "df0909df3234498babfd264ba27a5fef",
            "a707e548cbc2403eb82cdae7f3885cef",
            "942171f4fdb34171a1685f26b7904ce2",
            "15a5526d4b0644d19d7c49b571a39500",
            "54f93797834b4540b7693875c38d4ace",
            "5d1a2cff72c446dc8f20be867b6d092b",
            "d735b98001b14b0c8eb1f61a7a461201",
            "bcee5ccdbc1b499dbdec9a389d6ae0c9",
            "7f02d902a4474e7ebce4b953d5501c4d",
            "c55b75d200d24866b8930f64c9f71dda",
            "c41e56b2a70c4324a098d30aed8699a0",
            "5cdc0ea0935541ef97c5ecf8505a9eae",
            "91439aefdc6946088d081eee0f624520",
            "fb49c982d9ca4d5f9a6206cff896cefa",
            "7b37ce60e66f4fd28ccc9fcda73c0a2e",
            "79afde7fc6194a7097de8ec6f7ef6901",
            "09d8b0936d9443db9a450a5b77f6e919"
          ]
        },
        "id": "E9dURmiZFOBC",
        "outputId": "e802d557-d246-4071-d948-68a1f60e13d3"
      },
      "execution_count": null,
      "outputs": [
        {
          "output_type": "display_data",
          "data": {
            "text/plain": [
              "Batches:   0%|          | 0/25 [00:00<?, ?it/s]"
            ],
            "application/vnd.jupyter.widget-view+json": {
              "version_major": 2,
              "version_minor": 0,
              "model_id": "31319a6d717a412682eea307f95383e1"
            }
          },
          "metadata": {}
        },
        {
          "output_type": "stream",
          "name": "stderr",
          "text": [
            "2025-02-28 01:06:59,699 - BERTopic - Dimensionality - Reducing dimensionality of input embeddings.\n",
            "2025-02-28 01:07:00,396 - BERTopic - Dimensionality - Completed ✓\n",
            "2025-02-28 01:07:00,402 - BERTopic - Clustering - Approximating new points with `hdbscan_model`\n",
            "2025-02-28 01:07:00,482 - BERTopic - Probabilities - Start calculation of probabilities with HDBSCAN\n",
            "2025-02-28 01:07:00,806 - BERTopic - Probabilities - Completed ✓\n",
            "2025-02-28 01:07:00,809 - BERTopic - Cluster - Completed ✓\n"
          ]
        },
        {
          "output_type": "display_data",
          "data": {
            "text/plain": [
              "Batches:   0%|          | 0/84 [00:00<?, ?it/s]"
            ],
            "application/vnd.jupyter.widget-view+json": {
              "version_major": 2,
              "version_minor": 0,
              "model_id": "d735b98001b14b0c8eb1f61a7a461201"
            }
          },
          "metadata": {}
        },
        {
          "output_type": "stream",
          "name": "stderr",
          "text": [
            "2025-02-28 01:09:19,415 - BERTopic - Dimensionality - Reducing dimensionality of input embeddings.\n",
            "2025-02-28 01:09:21,331 - BERTopic - Dimensionality - Completed ✓\n",
            "2025-02-28 01:09:21,333 - BERTopic - Clustering - Approximating new points with `hdbscan_model`\n",
            "2025-02-28 01:09:21,485 - BERTopic - Probabilities - Start calculation of probabilities with HDBSCAN\n",
            "2025-02-28 01:09:22,271 - BERTopic - Probabilities - Completed ✓\n",
            "2025-02-28 01:09:22,274 - BERTopic - Cluster - Completed ✓\n"
          ]
        },
        {
          "output_type": "stream",
          "name": "stdout",
          "text": [
            "1-Star Reviews Topic Counts:\n",
            "{0: 18, 1: 6, 2: 43, 3: 8, 4: 0, 5: 5}\n",
            "\n",
            "5-Star Reviews Topic Counts:\n",
            "{0: 281, 1: 173, 2: 122, 3: 56, 4: 58, 5: 70}\n"
          ]
        },
        {
          "output_type": "display_data",
          "data": {
            "text/plain": [
              "<Figure size 1000x600 with 1 Axes>"
            ],
            "image/png": "[encoded data removed]"
          },
          "metadata": {}
        }
      ]
    },
    {
      "cell_type": "markdown",
      "source": [
        "Markdown Cell 12: Comment on Differences Between 1-Star and 5-Star Review Topics"
      ],
      "metadata": {
        "id": "hHnTJFl9HUp3"
      }
    },
    {
      "cell_type": "markdown",
      "source": [
        "**Comments on Differences Between 1-Star and 5-Star Reviews:**\n",
        "\n",
        "The visualization indicates that 1-star reviews tend to feature topics associated with negative experiences such as poor service, subpar food quality, or an unsatisfactory environment. In contrast, 5-star reviews highlight positive aspects including excellent service, delicious food, and a pleasant ambiance. These differences suggest that restaurants should focus on addressing the issues raised in negative reviews while further enhancing the strengths noted in positive feedback.\n"
      ],
      "metadata": {
        "id": "4w0MNsEdHX-T"
      }
    },
    {
      "cell_type": "markdown",
      "source": [
        "**Comments on Differences Between 1-Star and 5-Star Reviews (Markdown 12):**\n",
        "\n",
        "From the bar chart comparing topic frequencies in 1-star versus 5-star reviews, several key insights emerge:\n",
        "\n",
        "1. **High 5-Star Topic Concentration:**  \n",
        "   A few topics (e.g., Topic 0 and Topic 1) appear significantly more frequently in 5-star reviews. This suggests that when customers are pleased with their experience—whether it's related to a particular type of dish, service quality, or location—they tend to mention those topics positively.\n",
        "\n",
        "2. **Fewer, but Specific 1-Star Mentions:**  \n",
        "   Although 1-star reviews occur at lower absolute frequencies, they still provide critical information about pain points. The negative experiences may revolve around the same themes as the 5-star reviews (e.g., food quality or service) but from a dissatisfied perspective, indicating areas needing improvement.\n",
        "\n",
        "3. **Contrast in Review Tone:**  \n",
        "   Where 5-star reviews praise the restaurant, 1-star reviews often highlight shortcomings like slow service, food inconsistencies, or unwelcoming ambiance. These opposing sentiments within the same topics underscore how crucial it is to maintain consistency in quality and service.\n",
        "\n",
        "4. **Business Implications:**  \n",
        "   - **Addressing Negative Feedback:** Managers can focus on the recurring negative themes in 1-star reviews to develop targeted interventions—be it retraining staff, revisiting menu items, or improving the dining environment.  \n",
        "   - **Leveraging Positive Feedback:** Understanding what drives 5-star reviews allows businesses to reinforce the elements customers love (e.g., popular dishes, friendly service, appealing ambiance) and use them in marketing and brand positioning.  \n",
        "\n",
        "Overall, analyzing the disparity between 1-star and 5-star review topics helps restaurants prioritize improvements and continue delivering what resonates most positively with customers.\n"
      ],
      "metadata": {
        "id": "5IeAYEXvKqN5"
      }
    },
    {
      "cell_type": "markdown",
      "source": [
        "Markdown Cell 13: Acknowledgement of GenAI Tools and Collaboration"
      ],
      "metadata": {
        "id": "7xrAHzXwKzMj"
      }
    },
    {
      "cell_type": "markdown",
      "source": [
        "**Acknowledgements:**\n",
        "\n",
        "I would like to acknowledge the valuable insights gained through this assignment. The analysis of intertopic relationships, seasonal trends, and the contrasting sentiments between 1-star and 5-star reviews provided a deeper understanding of customer feedback. The intertopic distance and hierarchy visualizations helped clarify distinct thematic clusters, while the temporal analysis revealed seasonal patterns and potential external influences on customer behavior. Moreover, comparing the positive and negative review topics offered clear guidance on both strengths to leverage and areas in need of improvement. These collective insights have significantly enhanced my comprehension of topic modeling and its practical applications in deriving business intelligence.\n"
      ],
      "metadata": {
        "id": "2iY6or80LX_f"
      }
    }
  ]
}